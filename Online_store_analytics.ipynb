{
 "cells": [
  {
   "cell_type": "markdown",
   "id": "0243d040-4bca-4350-b78a-f223d3654f33",
   "metadata": {},
   "source": [
    "# Интернет-магазин"
   ]
  },
  {
   "cell_type": "markdown",
   "id": "418626af-e47d-4638-9532-a2828f9f51f5",
   "metadata": {},
   "source": [
    "## План проекта"
   ]
  },
  {
   "cell_type": "markdown",
   "id": "5370a392-5b84-4a23-b9a5-49112ffc5a37",
   "metadata": {},
   "source": [
    "### Цели:\n",
    "1. Приоритизировать гипотезы, которые были подготовлены вместе с отделом маркетинга\n",
    "2. Запустить A/B-тест и выяснить согласно результатам что может привести к увеличению выручки\n",
    "### Задачи:\n",
    "__Приоритизация гипотез:__\n",
    "* Применить фреймворк ICE для приоритизации гипотез и отсортировать их по убыванию приоритета;\n",
    "* Применить фреймворк RICE для приоритизации гипотез и отсортировать их по убыванию приоритета;\n",
    "* Указать, как изменилась приоритизация гипотез при применении RICE вместо ICE и объяснить причину;\\\n",
    "__Анализ A/B-теста:__\n",
    "* Построить график кумулятивной выручки по группам. Сделать выводы и предположения;\n",
    "* Построить график кумулятивного среднего чека по группам. Сделать выводы и предположения;\n",
    "* Построить график относительного изменения кумулятивного среднего чека группы B к группе A. Сделать выводы и предположения;\n",
    "* Построить график кумулятивного среднего количества заказов на посетителя по группам. Сделать выводы и предположения;\n",
    "* Построить график относительного изменения кумулятивного среднего количества заказов на посетителя группы B к группе A. Сделать выводы и предположения;\n",
    "* Построить точечный график количества заказов по пользователям. Сделать выводы и предположения;\n",
    "* Посчитать 95-й и 99-й перцентили количества заказов на пользователя. Выбрать границу для определения аномальных пользователей;\n",
    "* Построить точечный график стоимостей заказов. Сделать выводы и предположения;\n",
    "* Посчитать 95-й и 99-й перцентили стоимости заказов. Выбрать границу для определения аномальных заказов;\n",
    "* Посчитать статистическую значимость различий в среднем количестве заказов на посетителя между группами по «сырым» данным. Сделать выводы и предположения;\n",
    "* Посчитать статистическую значимость различий в среднем чеке заказа между группами по «сырым» данным. Сделать выводы и предположения;\n",
    "* Посчитать статистическую значимость различий в среднем количестве заказов на посетителя между группами по «очищенным» данным. Сделать выводы и предположения;\n",
    "* Посчитать статистическую значимость различий в среднем чеке заказа между группами по «очищенным» данным. Сделать выводы и предположения;\n",
    "* Принять решение по результатам теста и объясните его.\\\n",
    "\\\n",
    "Варианты решений:\n",
    "1. Остановить тест, зафиксировать победу одной из групп.\n",
    "2. Остановить тест, зафиксировать отсутствие различий между группами.\n",
    "3. Продолжить тест.\n",
    "### Ход исследования:\n",
    "Данные я получу из нескольких датасетов (/datasets/hypothesis.csv - для первой части проекта, /datasets/orders.csv и /datasets/visitors.csv - для второй части проекта). О качестве данных ничего не известно, поэтому первым этапом будет необходимо открыть данные, посмотреть на наличие дублей, аномалий и т.п. Затем, на этапе предобработки данных я поищу возиомжность устранения всех ошибок, которые могут повлиять на результат.\\\n",
    "\\\n",
    "Таким образом, моё исследование будет состоять из следующих этапов:\n",
    "1. Обзор данных\n",
    "2. Предобработка данных\n",
    "3. Промежуточный вывод после предобработки\n",
    "4. Приоритизация гипотез\n",
    "5. Вывод после проведения приоритизации гипотез\n",
    "6. Анализ A/B-теста\n",
    "7. Решение о том, стоит ли продолжать или остановить A/B-тест\n",
    "8. Написание общего вывода"
   ]
  },
  {
   "cell_type": "markdown",
   "id": "d2478e10-0945-4746-bd2a-ef71faec7f85",
   "metadata": {
    "slideshow": {
     "slide_type": ""
    },
    "tags": []
   },
   "source": [
    "## Обзор данных"
   ]
  },
  {
   "cell_type": "code",
   "execution_count": 1,
   "id": "69d05ec0-c5e9-4112-8224-74e3e8ee5cff",
   "metadata": {},
   "outputs": [],
   "source": [
    "#импортируем библиотеки\n",
    "import pandas as pd\n",
    "import numpy as np\n",
    "import matplotlib.pyplot as plt\n",
    "import scipy.stats as stats\n",
    "import datetime as dt"
   ]
  },
  {
   "cell_type": "code",
   "execution_count": 2,
   "id": "c6b853ac-d024-49c7-8f63-581279116a30",
   "metadata": {},
   "outputs": [],
   "source": [
    "# прочитаем данные через конструкцию try-except\n",
    "try:\n",
    "    hypothesis = pd.read_csv('/Users/bis.partnermail.ru/Desktop/Яндекс Практикум/datasets/hypothesis.csv')\n",
    "    orders = pd.read_csv('/Users/bis.partnermail.ru/Desktop/Яндекс Практикум/datasets/orders.csv')\n",
    "    visitors = pd.read_csv('/Users/bis.partnermail.ru/Desktop/Яндекс Практикум/datasets/visitors.csv')\n",
    "except:\n",
    "    hypothesis = pd.read_csv('/datasets/hypothesis.csv')\n",
    "    orders = pd.read_csv('/datasets/orders.csv')\n",
    "    visitors = pd.read_csv('/datasets/visitors.csv')"
   ]
  },
  {
   "cell_type": "code",
   "execution_count": 3,
   "id": "58c6f2cb-b06e-4b0c-9be2-06932081821c",
   "metadata": {},
   "outputs": [
    {
     "data": {
      "text/html": [
       "<div>\n",
       "<style scoped>\n",
       "    .dataframe tbody tr th:only-of-type {\n",
       "        vertical-align: middle;\n",
       "    }\n",
       "\n",
       "    .dataframe tbody tr th {\n",
       "        vertical-align: top;\n",
       "    }\n",
       "\n",
       "    .dataframe thead th {\n",
       "        text-align: right;\n",
       "    }\n",
       "</style>\n",
       "<table border=\"1\" class=\"dataframe\">\n",
       "  <thead>\n",
       "    <tr style=\"text-align: right;\">\n",
       "      <th></th>\n",
       "      <th>Hypothesis</th>\n",
       "      <th>Reach</th>\n",
       "      <th>Impact</th>\n",
       "      <th>Confidence</th>\n",
       "      <th>Efforts</th>\n",
       "    </tr>\n",
       "  </thead>\n",
       "  <tbody>\n",
       "    <tr>\n",
       "      <th>0</th>\n",
       "      <td>Добавить два новых канала привлечения трафика,...</td>\n",
       "      <td>3</td>\n",
       "      <td>10</td>\n",
       "      <td>8</td>\n",
       "      <td>6</td>\n",
       "    </tr>\n",
       "    <tr>\n",
       "      <th>1</th>\n",
       "      <td>Запустить собственную службу доставки, что сок...</td>\n",
       "      <td>2</td>\n",
       "      <td>5</td>\n",
       "      <td>4</td>\n",
       "      <td>10</td>\n",
       "    </tr>\n",
       "    <tr>\n",
       "      <th>2</th>\n",
       "      <td>Добавить блоки рекомендаций товаров на сайт ин...</td>\n",
       "      <td>8</td>\n",
       "      <td>3</td>\n",
       "      <td>7</td>\n",
       "      <td>3</td>\n",
       "    </tr>\n",
       "    <tr>\n",
       "      <th>3</th>\n",
       "      <td>Изменить структура категорий, что увеличит кон...</td>\n",
       "      <td>8</td>\n",
       "      <td>3</td>\n",
       "      <td>3</td>\n",
       "      <td>8</td>\n",
       "    </tr>\n",
       "    <tr>\n",
       "      <th>4</th>\n",
       "      <td>Изменить цвет фона главной страницы, чтобы уве...</td>\n",
       "      <td>3</td>\n",
       "      <td>1</td>\n",
       "      <td>1</td>\n",
       "      <td>1</td>\n",
       "    </tr>\n",
       "  </tbody>\n",
       "</table>\n",
       "</div>"
      ],
      "text/plain": [
       "                                          Hypothesis  Reach  Impact  \\\n",
       "0  Добавить два новых канала привлечения трафика,...      3      10   \n",
       "1  Запустить собственную службу доставки, что сок...      2       5   \n",
       "2  Добавить блоки рекомендаций товаров на сайт ин...      8       3   \n",
       "3  Изменить структура категорий, что увеличит кон...      8       3   \n",
       "4  Изменить цвет фона главной страницы, чтобы уве...      3       1   \n",
       "\n",
       "   Confidence  Efforts  \n",
       "0           8        6  \n",
       "1           4       10  \n",
       "2           7        3  \n",
       "3           3        8  \n",
       "4           1        1  "
      ]
     },
     "metadata": {},
     "output_type": "display_data"
    },
    {
     "data": {
      "text/html": [
       "<div>\n",
       "<style scoped>\n",
       "    .dataframe tbody tr th:only-of-type {\n",
       "        vertical-align: middle;\n",
       "    }\n",
       "\n",
       "    .dataframe tbody tr th {\n",
       "        vertical-align: top;\n",
       "    }\n",
       "\n",
       "    .dataframe thead th {\n",
       "        text-align: right;\n",
       "    }\n",
       "</style>\n",
       "<table border=\"1\" class=\"dataframe\">\n",
       "  <thead>\n",
       "    <tr style=\"text-align: right;\">\n",
       "      <th></th>\n",
       "      <th>transactionId</th>\n",
       "      <th>visitorId</th>\n",
       "      <th>date</th>\n",
       "      <th>revenue</th>\n",
       "      <th>group</th>\n",
       "    </tr>\n",
       "  </thead>\n",
       "  <tbody>\n",
       "    <tr>\n",
       "      <th>0</th>\n",
       "      <td>3667963787</td>\n",
       "      <td>3312258926</td>\n",
       "      <td>2019-08-15</td>\n",
       "      <td>1650</td>\n",
       "      <td>B</td>\n",
       "    </tr>\n",
       "    <tr>\n",
       "      <th>1</th>\n",
       "      <td>2804400009</td>\n",
       "      <td>3642806036</td>\n",
       "      <td>2019-08-15</td>\n",
       "      <td>730</td>\n",
       "      <td>B</td>\n",
       "    </tr>\n",
       "    <tr>\n",
       "      <th>2</th>\n",
       "      <td>2961555356</td>\n",
       "      <td>4069496402</td>\n",
       "      <td>2019-08-15</td>\n",
       "      <td>400</td>\n",
       "      <td>A</td>\n",
       "    </tr>\n",
       "    <tr>\n",
       "      <th>3</th>\n",
       "      <td>3797467345</td>\n",
       "      <td>1196621759</td>\n",
       "      <td>2019-08-15</td>\n",
       "      <td>9759</td>\n",
       "      <td>B</td>\n",
       "    </tr>\n",
       "    <tr>\n",
       "      <th>4</th>\n",
       "      <td>2282983706</td>\n",
       "      <td>2322279887</td>\n",
       "      <td>2019-08-15</td>\n",
       "      <td>2308</td>\n",
       "      <td>B</td>\n",
       "    </tr>\n",
       "  </tbody>\n",
       "</table>\n",
       "</div>"
      ],
      "text/plain": [
       "   transactionId   visitorId        date  revenue group\n",
       "0     3667963787  3312258926  2019-08-15     1650     B\n",
       "1     2804400009  3642806036  2019-08-15      730     B\n",
       "2     2961555356  4069496402  2019-08-15      400     A\n",
       "3     3797467345  1196621759  2019-08-15     9759     B\n",
       "4     2282983706  2322279887  2019-08-15     2308     B"
      ]
     },
     "metadata": {},
     "output_type": "display_data"
    },
    {
     "data": {
      "text/html": [
       "<div>\n",
       "<style scoped>\n",
       "    .dataframe tbody tr th:only-of-type {\n",
       "        vertical-align: middle;\n",
       "    }\n",
       "\n",
       "    .dataframe tbody tr th {\n",
       "        vertical-align: top;\n",
       "    }\n",
       "\n",
       "    .dataframe thead th {\n",
       "        text-align: right;\n",
       "    }\n",
       "</style>\n",
       "<table border=\"1\" class=\"dataframe\">\n",
       "  <thead>\n",
       "    <tr style=\"text-align: right;\">\n",
       "      <th></th>\n",
       "      <th>date</th>\n",
       "      <th>group</th>\n",
       "      <th>visitors</th>\n",
       "    </tr>\n",
       "  </thead>\n",
       "  <tbody>\n",
       "    <tr>\n",
       "      <th>0</th>\n",
       "      <td>2019-08-01</td>\n",
       "      <td>A</td>\n",
       "      <td>719</td>\n",
       "    </tr>\n",
       "    <tr>\n",
       "      <th>1</th>\n",
       "      <td>2019-08-02</td>\n",
       "      <td>A</td>\n",
       "      <td>619</td>\n",
       "    </tr>\n",
       "    <tr>\n",
       "      <th>2</th>\n",
       "      <td>2019-08-03</td>\n",
       "      <td>A</td>\n",
       "      <td>507</td>\n",
       "    </tr>\n",
       "    <tr>\n",
       "      <th>3</th>\n",
       "      <td>2019-08-04</td>\n",
       "      <td>A</td>\n",
       "      <td>717</td>\n",
       "    </tr>\n",
       "    <tr>\n",
       "      <th>4</th>\n",
       "      <td>2019-08-05</td>\n",
       "      <td>A</td>\n",
       "      <td>756</td>\n",
       "    </tr>\n",
       "  </tbody>\n",
       "</table>\n",
       "</div>"
      ],
      "text/plain": [
       "         date group  visitors\n",
       "0  2019-08-01     A       719\n",
       "1  2019-08-02     A       619\n",
       "2  2019-08-03     A       507\n",
       "3  2019-08-04     A       717\n",
       "4  2019-08-05     A       756"
      ]
     },
     "metadata": {},
     "output_type": "display_data"
    }
   ],
   "source": [
    "#выведем первые 5 строк каждого датасета\n",
    "display(hypothesis.head())\n",
    "display(orders.head())\n",
    "display(visitors.head())"
   ]
  },
  {
   "cell_type": "markdown",
   "id": "5de8b3be-2386-4375-9db2-7675e683b4b7",
   "metadata": {},
   "source": [
    "Заметим, что в датафрейме hypothesis верхний регистр. Заменим его на нижний."
   ]
  },
  {
   "cell_type": "code",
   "execution_count": 4,
   "id": "bfbf5a12-c0d8-493b-a18a-c8215ee3b242",
   "metadata": {},
   "outputs": [
    {
     "name": "stdout",
     "output_type": "stream",
     "text": [
      "(9, 5)\n"
     ]
    }
   ],
   "source": [
    "# посмотрим также размеры датасетов\n",
    "print(hypothesis.shape)"
   ]
  },
  {
   "cell_type": "markdown",
   "id": "d09cc0cd-acd6-4f31-8269-e3bd2d03079b",
   "metadata": {},
   "source": [
    "С размером первого датасета все понятно. Как и говорилось в описании, в файле содержаться 9 гипотез (9 строк) и 5 столбцов (наименование гипотезы и параметры Reach, Impact, Confidence, Effort). Двигаемся дальше."
   ]
  },
  {
   "cell_type": "code",
   "execution_count": 5,
   "id": "5a30b9bb-b602-4c84-ab1b-adbf170cced9",
   "metadata": {},
   "outputs": [
    {
     "name": "stdout",
     "output_type": "stream",
     "text": [
      "(1197, 5)\n",
      "(62, 3)\n"
     ]
    }
   ],
   "source": [
    "print(orders.shape)\n",
    "print(visitors.shape)"
   ]
  },
  {
   "cell_type": "markdown",
   "id": "641f6cfb-9513-49f1-9e69-8ba93f1ae3ae",
   "metadata": {},
   "source": [
    "С размерами датасетов тоже все в порядке на первый взгляд. Посмотрим типы данных заранее, особенно заострим внимание на дате в датасетах orders и visitors."
   ]
  },
  {
   "cell_type": "code",
   "execution_count": 6,
   "id": "0eb2ac80-f5f2-45ae-9a10-8f2f691ae553",
   "metadata": {},
   "outputs": [
    {
     "name": "stdout",
     "output_type": "stream",
     "text": [
      "<class 'pandas.core.frame.DataFrame'>\n",
      "RangeIndex: 1197 entries, 0 to 1196\n",
      "Data columns (total 5 columns):\n",
      " #   Column         Non-Null Count  Dtype \n",
      "---  ------         --------------  ----- \n",
      " 0   transactionId  1197 non-null   int64 \n",
      " 1   visitorId      1197 non-null   int64 \n",
      " 2   date           1197 non-null   object\n",
      " 3   revenue        1197 non-null   int64 \n",
      " 4   group          1197 non-null   object\n",
      "dtypes: int64(3), object(2)\n",
      "memory usage: 46.9+ KB\n",
      "<class 'pandas.core.frame.DataFrame'>\n",
      "RangeIndex: 62 entries, 0 to 61\n",
      "Data columns (total 3 columns):\n",
      " #   Column    Non-Null Count  Dtype \n",
      "---  ------    --------------  ----- \n",
      " 0   date      62 non-null     object\n",
      " 1   group     62 non-null     object\n",
      " 2   visitors  62 non-null     int64 \n",
      "dtypes: int64(1), object(2)\n",
      "memory usage: 1.6+ KB\n"
     ]
    }
   ],
   "source": [
    "# выведем информацию по датафрейму orders\n",
    "orders.info()\n",
    "# выведем информацию по датафрейму visitors\n",
    "visitors.info()"
   ]
  },
  {
   "cell_type": "markdown",
   "id": "8bc092ab-a869-4df7-9b32-3461fd0f199f",
   "metadata": {},
   "source": [
    "Как и предполагалось. На этапе предобработке данных заменим тип object в поле date на datetime в датафреймах orders и visitors."
   ]
  },
  {
   "cell_type": "markdown",
   "id": "3abeb2d3-176e-41ab-8305-656d64bcf430",
   "metadata": {},
   "source": [
    "### Промежуточный вывод:\n",
    "Данные заранее были хорошо подготовлены, спасибо!\\\n",
    "Потребуется заменить регистр в названиях полей датафрейма hypothesis. Также, необходимо заменить тип данных с object на datetime в полях date, чем и займемся на следующем этапе."
   ]
  },
  {
   "cell_type": "markdown",
   "id": "717ded71-c919-4b27-91d1-78afa84aead3",
   "metadata": {},
   "source": [
    "## Предобработка данных"
   ]
  },
  {
   "cell_type": "markdown",
   "id": "f6d4a7fc-a5cb-4c06-8056-200c5ec369b2",
   "metadata": {},
   "source": [
    "1. Заменим тип данных с object на datetime в полях date\n",
    "2. Заменим названия столбцов датафреймов\n",
    "3. Приведем название столбцов hypothesis к нижнему регистру\n",
    "4. Посмотрим данные на дубли и ошибки, и устраним их в случаи возможности"
   ]
  },
  {
   "cell_type": "code",
   "execution_count": 7,
   "id": "44065e32-9164-4a6c-88fb-ff78de864931",
   "metadata": {},
   "outputs": [
    {
     "name": "stdout",
     "output_type": "stream",
     "text": [
      "<class 'pandas.core.frame.DataFrame'>\n",
      "RangeIndex: 62 entries, 0 to 61\n",
      "Data columns (total 3 columns):\n",
      " #   Column    Non-Null Count  Dtype \n",
      "---  ------    --------------  ----- \n",
      " 0   date      62 non-null     object\n",
      " 1   group     62 non-null     object\n",
      " 2   visitors  62 non-null     int64 \n",
      "dtypes: int64(1), object(2)\n",
      "memory usage: 1.6+ KB\n",
      "<class 'pandas.core.frame.DataFrame'>\n",
      "RangeIndex: 1197 entries, 0 to 1196\n",
      "Data columns (total 5 columns):\n",
      " #   Column         Non-Null Count  Dtype \n",
      "---  ------         --------------  ----- \n",
      " 0   transactionId  1197 non-null   int64 \n",
      " 1   visitorId      1197 non-null   int64 \n",
      " 2   date           1197 non-null   object\n",
      " 3   revenue        1197 non-null   int64 \n",
      " 4   group          1197 non-null   object\n",
      "dtypes: int64(3), object(2)\n",
      "memory usage: 46.9+ KB\n"
     ]
    }
   ],
   "source": [
    "visitors.info()\n",
    "orders.info()"
   ]
  },
  {
   "cell_type": "code",
   "execution_count": 8,
   "id": "35950bab-7462-4d46-9bed-5f6da37b95a4",
   "metadata": {},
   "outputs": [],
   "source": [
    "# заменим тип данных столбца date в датафреймах orders и visitors\n",
    "orders['date'] = orders['date'].map(\n",
    "    lambda x: dt.datetime.strptime(x, '%Y-%m-%d'))\n",
    "visitors['date'] = visitors['date'].map(\n",
    "    lambda x: dt.datetime.strptime(x, '%Y-%m-%d'))"
   ]
  },
  {
   "cell_type": "code",
   "execution_count": 9,
   "id": "d846cb4d-9c60-46bb-bdcb-a7294fa7bc2e",
   "metadata": {},
   "outputs": [
    {
     "name": "stdout",
     "output_type": "stream",
     "text": [
      "<class 'pandas.core.frame.DataFrame'>\n",
      "RangeIndex: 62 entries, 0 to 61\n",
      "Data columns (total 3 columns):\n",
      " #   Column    Non-Null Count  Dtype         \n",
      "---  ------    --------------  -----         \n",
      " 0   date      62 non-null     datetime64[ns]\n",
      " 1   group     62 non-null     object        \n",
      " 2   visitors  62 non-null     int64         \n",
      "dtypes: datetime64[ns](1), int64(1), object(1)\n",
      "memory usage: 1.6+ KB\n",
      "<class 'pandas.core.frame.DataFrame'>\n",
      "RangeIndex: 1197 entries, 0 to 1196\n",
      "Data columns (total 5 columns):\n",
      " #   Column         Non-Null Count  Dtype         \n",
      "---  ------         --------------  -----         \n",
      " 0   transactionId  1197 non-null   int64         \n",
      " 1   visitorId      1197 non-null   int64         \n",
      " 2   date           1197 non-null   datetime64[ns]\n",
      " 3   revenue        1197 non-null   int64         \n",
      " 4   group          1197 non-null   object        \n",
      "dtypes: datetime64[ns](1), int64(3), object(1)\n",
      "memory usage: 46.9+ KB\n"
     ]
    }
   ],
   "source": [
    "# проверим тип данных после изменений\n",
    "visitors.info()\n",
    "orders.info()"
   ]
  },
  {
   "cell_type": "code",
   "execution_count": 10,
   "id": "972c631f-1304-4304-87e2-1099db83b9e7",
   "metadata": {},
   "outputs": [
    {
     "data": {
      "text/html": [
       "<div>\n",
       "<style scoped>\n",
       "    .dataframe tbody tr th:only-of-type {\n",
       "        vertical-align: middle;\n",
       "    }\n",
       "\n",
       "    .dataframe tbody tr th {\n",
       "        vertical-align: top;\n",
       "    }\n",
       "\n",
       "    .dataframe thead th {\n",
       "        text-align: right;\n",
       "    }\n",
       "</style>\n",
       "<table border=\"1\" class=\"dataframe\">\n",
       "  <thead>\n",
       "    <tr style=\"text-align: right;\">\n",
       "      <th></th>\n",
       "      <th>transaction_id</th>\n",
       "      <th>visitor_id</th>\n",
       "      <th>date</th>\n",
       "      <th>revenue</th>\n",
       "      <th>group</th>\n",
       "    </tr>\n",
       "  </thead>\n",
       "  <tbody>\n",
       "    <tr>\n",
       "      <th>0</th>\n",
       "      <td>3667963787</td>\n",
       "      <td>3312258926</td>\n",
       "      <td>2019-08-15</td>\n",
       "      <td>1650</td>\n",
       "      <td>B</td>\n",
       "    </tr>\n",
       "    <tr>\n",
       "      <th>1</th>\n",
       "      <td>2804400009</td>\n",
       "      <td>3642806036</td>\n",
       "      <td>2019-08-15</td>\n",
       "      <td>730</td>\n",
       "      <td>B</td>\n",
       "    </tr>\n",
       "    <tr>\n",
       "      <th>2</th>\n",
       "      <td>2961555356</td>\n",
       "      <td>4069496402</td>\n",
       "      <td>2019-08-15</td>\n",
       "      <td>400</td>\n",
       "      <td>A</td>\n",
       "    </tr>\n",
       "    <tr>\n",
       "      <th>3</th>\n",
       "      <td>3797467345</td>\n",
       "      <td>1196621759</td>\n",
       "      <td>2019-08-15</td>\n",
       "      <td>9759</td>\n",
       "      <td>B</td>\n",
       "    </tr>\n",
       "    <tr>\n",
       "      <th>4</th>\n",
       "      <td>2282983706</td>\n",
       "      <td>2322279887</td>\n",
       "      <td>2019-08-15</td>\n",
       "      <td>2308</td>\n",
       "      <td>B</td>\n",
       "    </tr>\n",
       "  </tbody>\n",
       "</table>\n",
       "</div>"
      ],
      "text/plain": [
       "   transaction_id  visitor_id       date  revenue group\n",
       "0      3667963787  3312258926 2019-08-15     1650     B\n",
       "1      2804400009  3642806036 2019-08-15      730     B\n",
       "2      2961555356  4069496402 2019-08-15      400     A\n",
       "3      3797467345  1196621759 2019-08-15     9759     B\n",
       "4      2282983706  2322279887 2019-08-15     2308     B"
      ]
     },
     "execution_count": 10,
     "metadata": {},
     "output_type": "execute_result"
    }
   ],
   "source": [
    "orders.rename(columns={\n",
    "    'transactionId':'transaction_id',\n",
    "    'visitorId':'visitor_id'}, inplace=True)\n",
    "orders.head()"
   ]
  },
  {
   "cell_type": "code",
   "execution_count": 11,
   "id": "fbb0835b-6750-4950-8d23-4c2f6f305eb6",
   "metadata": {},
   "outputs": [],
   "source": [
    "# заменим регистр на нижний\n",
    "hypothesis.columns = hypothesis.columns.str.lower()"
   ]
  },
  {
   "cell_type": "code",
   "execution_count": 12,
   "id": "7135e5fc-7edb-4b2c-885c-c941322f61d0",
   "metadata": {},
   "outputs": [
    {
     "name": "stdout",
     "output_type": "stream",
     "text": [
      "Index(['hypothesis', 'reach', 'impact', 'confidence', 'efforts'], dtype='object')\n"
     ]
    }
   ],
   "source": [
    "# проверим названия столбцов\n",
    "print(hypothesis.columns)"
   ]
  },
  {
   "cell_type": "code",
   "execution_count": 13,
   "id": "a706e981-f8cf-499a-9976-5636c759b4cf",
   "metadata": {},
   "outputs": [
    {
     "name": "stdout",
     "output_type": "stream",
     "text": [
      "0\n",
      "0\n"
     ]
    }
   ],
   "source": [
    "# посмотрим данные на наличие дублей\n",
    "print(orders.duplicated().sum())\n",
    "print(visitors.duplicated().sum())"
   ]
  },
  {
   "cell_type": "code",
   "execution_count": 14,
   "id": "4469c2d9-f8c4-4fc2-baff-74b536e50036",
   "metadata": {},
   "outputs": [
    {
     "data": {
      "text/plain": [
       "group\n",
       "1        973\n",
       "2         58\n",
       "dtype: int64"
      ]
     },
     "execution_count": 14,
     "metadata": {},
     "output_type": "execute_result"
    }
   ],
   "source": [
    "# выполним проверку на наличие дублей по id в обеих группах в таблице orders\n",
    "# посчитаем сколько уникальных значений по группам\n",
    "count = orders.groupby('visitor_id')['group'].nunique()\n",
    "# посмотрим сколько выходит повторений id в группах\n",
    "countGroups = pd.DataFrame(count)\n",
    "countGroups.head()\n",
    "countGroups.value_counts()"
   ]
  },
  {
   "cell_type": "markdown",
   "id": "e6fddc75-06c8-4676-bd4c-7cb3b46a5079",
   "metadata": {},
   "source": [
    "Заметим, что в датафрейме orders присутсвуют пользователи, которые находятся в обеих группах. Доля этих пользователей от уникальных пользователей составляет 6%. Так как дубли занимают небольшую долю, оставим их, чтобы не испортить данные."
   ]
  },
  {
   "cell_type": "markdown",
   "id": "261ecb62-57ab-46dd-9a08-dc92991fd243",
   "metadata": {},
   "source": [
    "Можем переходить к приоритизации гипотез."
   ]
  },
  {
   "cell_type": "markdown",
   "id": "3309e8c1-7678-4666-84d9-997d82b20011",
   "metadata": {},
   "source": [
    "### Вывод\n",
    "* По результатам предобраотки данных удалось выявить дубликаты и другие ошибки в данных. Пользователи, которые попали в обе выборке составляют 6% от общего числа пользователей, поэтому было принято решение оставить данные, так как удаление данных может повлиять на конечные выводы.\n",
    "* Изменили наименование столбцов датафрейма orders для упрощения работы, также изменен тип данных столбца date в датафреймах orders и visitors."
   ]
  },
  {
   "cell_type": "markdown",
   "id": "222e49c2-9584-49ce-843b-5e179955f975",
   "metadata": {},
   "source": [
    "## Приоритизация гипотез"
   ]
  },
  {
   "cell_type": "code",
   "execution_count": 15,
   "id": "0dce3eb6-ae2c-4ca3-9a4d-d35c68e930df",
   "metadata": {},
   "outputs": [
    {
     "data": {
      "text/html": [
       "<div>\n",
       "<style scoped>\n",
       "    .dataframe tbody tr th:only-of-type {\n",
       "        vertical-align: middle;\n",
       "    }\n",
       "\n",
       "    .dataframe tbody tr th {\n",
       "        vertical-align: top;\n",
       "    }\n",
       "\n",
       "    .dataframe thead th {\n",
       "        text-align: right;\n",
       "    }\n",
       "</style>\n",
       "<table border=\"1\" class=\"dataframe\">\n",
       "  <thead>\n",
       "    <tr style=\"text-align: right;\">\n",
       "      <th></th>\n",
       "      <th>hypothesis</th>\n",
       "      <th>reach</th>\n",
       "      <th>impact</th>\n",
       "      <th>confidence</th>\n",
       "      <th>efforts</th>\n",
       "    </tr>\n",
       "  </thead>\n",
       "  <tbody>\n",
       "    <tr>\n",
       "      <th>0</th>\n",
       "      <td>Добавить два новых канала привлечения трафика, что позволит привлекать на 30% больше пользователей</td>\n",
       "      <td>3</td>\n",
       "      <td>10</td>\n",
       "      <td>8</td>\n",
       "      <td>6</td>\n",
       "    </tr>\n",
       "    <tr>\n",
       "      <th>1</th>\n",
       "      <td>Запустить собственную службу доставки, что сократит срок доставки заказов</td>\n",
       "      <td>2</td>\n",
       "      <td>5</td>\n",
       "      <td>4</td>\n",
       "      <td>10</td>\n",
       "    </tr>\n",
       "    <tr>\n",
       "      <th>2</th>\n",
       "      <td>Добавить блоки рекомендаций товаров на сайт интернет магазина, чтобы повысить конверсию и средний чек заказа</td>\n",
       "      <td>8</td>\n",
       "      <td>3</td>\n",
       "      <td>7</td>\n",
       "      <td>3</td>\n",
       "    </tr>\n",
       "    <tr>\n",
       "      <th>3</th>\n",
       "      <td>Изменить структура категорий, что увеличит конверсию, т.к. пользователи быстрее найдут нужный товар</td>\n",
       "      <td>8</td>\n",
       "      <td>3</td>\n",
       "      <td>3</td>\n",
       "      <td>8</td>\n",
       "    </tr>\n",
       "    <tr>\n",
       "      <th>4</th>\n",
       "      <td>Изменить цвет фона главной страницы, чтобы увеличить вовлеченность пользователей</td>\n",
       "      <td>3</td>\n",
       "      <td>1</td>\n",
       "      <td>1</td>\n",
       "      <td>1</td>\n",
       "    </tr>\n",
       "    <tr>\n",
       "      <th>5</th>\n",
       "      <td>Добавить страницу отзывов клиентов о магазине, что позволит увеличить количество заказов</td>\n",
       "      <td>3</td>\n",
       "      <td>2</td>\n",
       "      <td>2</td>\n",
       "      <td>3</td>\n",
       "    </tr>\n",
       "    <tr>\n",
       "      <th>6</th>\n",
       "      <td>Показать на главной странице баннеры с актуальными акциями и распродажами, чтобы увеличить конверсию</td>\n",
       "      <td>5</td>\n",
       "      <td>3</td>\n",
       "      <td>8</td>\n",
       "      <td>3</td>\n",
       "    </tr>\n",
       "    <tr>\n",
       "      <th>7</th>\n",
       "      <td>Добавить форму подписки на все основные страницы, чтобы собрать базу клиентов для email-рассылок</td>\n",
       "      <td>10</td>\n",
       "      <td>7</td>\n",
       "      <td>8</td>\n",
       "      <td>5</td>\n",
       "    </tr>\n",
       "    <tr>\n",
       "      <th>8</th>\n",
       "      <td>Запустить акцию, дающую скидку на товар в день рождения</td>\n",
       "      <td>1</td>\n",
       "      <td>9</td>\n",
       "      <td>9</td>\n",
       "      <td>5</td>\n",
       "    </tr>\n",
       "  </tbody>\n",
       "</table>\n",
       "</div>"
      ],
      "text/plain": [
       "                                                                                                     hypothesis  \\\n",
       "0            Добавить два новых канала привлечения трафика, что позволит привлекать на 30% больше пользователей   \n",
       "1                                     Запустить собственную службу доставки, что сократит срок доставки заказов   \n",
       "2  Добавить блоки рекомендаций товаров на сайт интернет магазина, чтобы повысить конверсию и средний чек заказа   \n",
       "3           Изменить структура категорий, что увеличит конверсию, т.к. пользователи быстрее найдут нужный товар   \n",
       "4                              Изменить цвет фона главной страницы, чтобы увеличить вовлеченность пользователей   \n",
       "5                      Добавить страницу отзывов клиентов о магазине, что позволит увеличить количество заказов   \n",
       "6          Показать на главной странице баннеры с актуальными акциями и распродажами, чтобы увеличить конверсию   \n",
       "7              Добавить форму подписки на все основные страницы, чтобы собрать базу клиентов для email-рассылок   \n",
       "8                                                       Запустить акцию, дающую скидку на товар в день рождения   \n",
       "\n",
       "   reach  impact  confidence  efforts  \n",
       "0      3      10           8        6  \n",
       "1      2       5           4       10  \n",
       "2      8       3           7        3  \n",
       "3      8       3           3        8  \n",
       "4      3       1           1        1  \n",
       "5      3       2           2        3  \n",
       "6      5       3           8        3  \n",
       "7     10       7           8        5  \n",
       "8      1       9           9        5  "
      ]
     },
     "metadata": {},
     "output_type": "display_data"
    }
   ],
   "source": [
    "# выведем датафрейм с гипотезами\n",
    "pd.options.display.max_colwidth = 120\n",
    "display(hypothesis)"
   ]
  },
  {
   "cell_type": "markdown",
   "id": "21d6ee60-251b-44bd-ac9e-1a9d89f4e721",
   "metadata": {},
   "source": [
    "Применим фреймворк ICE для приоритизации гипотез. Отсортируем гипотезы по убыванию приоритета."
   ]
  },
  {
   "cell_type": "code",
   "execution_count": 16,
   "id": "3bb3c484-f6b3-45f7-a40e-6507886cf316",
   "metadata": {},
   "outputs": [
    {
     "data": {
      "text/html": [
       "<div>\n",
       "<style scoped>\n",
       "    .dataframe tbody tr th:only-of-type {\n",
       "        vertical-align: middle;\n",
       "    }\n",
       "\n",
       "    .dataframe tbody tr th {\n",
       "        vertical-align: top;\n",
       "    }\n",
       "\n",
       "    .dataframe thead th {\n",
       "        text-align: right;\n",
       "    }\n",
       "</style>\n",
       "<table border=\"1\" class=\"dataframe\">\n",
       "  <thead>\n",
       "    <tr style=\"text-align: right;\">\n",
       "      <th></th>\n",
       "      <th>hypothesis</th>\n",
       "      <th>ICE</th>\n",
       "    </tr>\n",
       "  </thead>\n",
       "  <tbody>\n",
       "    <tr>\n",
       "      <th>8</th>\n",
       "      <td>Запустить акцию, дающую скидку на товар в день рождения</td>\n",
       "      <td>16.20</td>\n",
       "    </tr>\n",
       "    <tr>\n",
       "      <th>0</th>\n",
       "      <td>Добавить два новых канала привлечения трафика, что позволит привлекать на 30% больше пользователей</td>\n",
       "      <td>13.33</td>\n",
       "    </tr>\n",
       "    <tr>\n",
       "      <th>7</th>\n",
       "      <td>Добавить форму подписки на все основные страницы, чтобы собрать базу клиентов для email-рассылок</td>\n",
       "      <td>11.20</td>\n",
       "    </tr>\n",
       "    <tr>\n",
       "      <th>6</th>\n",
       "      <td>Показать на главной странице баннеры с актуальными акциями и распродажами, чтобы увеличить конверсию</td>\n",
       "      <td>8.00</td>\n",
       "    </tr>\n",
       "    <tr>\n",
       "      <th>2</th>\n",
       "      <td>Добавить блоки рекомендаций товаров на сайт интернет магазина, чтобы повысить конверсию и средний чек заказа</td>\n",
       "      <td>7.00</td>\n",
       "    </tr>\n",
       "    <tr>\n",
       "      <th>1</th>\n",
       "      <td>Запустить собственную службу доставки, что сократит срок доставки заказов</td>\n",
       "      <td>2.00</td>\n",
       "    </tr>\n",
       "    <tr>\n",
       "      <th>5</th>\n",
       "      <td>Добавить страницу отзывов клиентов о магазине, что позволит увеличить количество заказов</td>\n",
       "      <td>1.33</td>\n",
       "    </tr>\n",
       "    <tr>\n",
       "      <th>3</th>\n",
       "      <td>Изменить структура категорий, что увеличит конверсию, т.к. пользователи быстрее найдут нужный товар</td>\n",
       "      <td>1.12</td>\n",
       "    </tr>\n",
       "    <tr>\n",
       "      <th>4</th>\n",
       "      <td>Изменить цвет фона главной страницы, чтобы увеличить вовлеченность пользователей</td>\n",
       "      <td>1.00</td>\n",
       "    </tr>\n",
       "  </tbody>\n",
       "</table>\n",
       "</div>"
      ],
      "text/plain": [
       "                                                                                                     hypothesis  \\\n",
       "8                                                       Запустить акцию, дающую скидку на товар в день рождения   \n",
       "0            Добавить два новых канала привлечения трафика, что позволит привлекать на 30% больше пользователей   \n",
       "7              Добавить форму подписки на все основные страницы, чтобы собрать базу клиентов для email-рассылок   \n",
       "6          Показать на главной странице баннеры с актуальными акциями и распродажами, чтобы увеличить конверсию   \n",
       "2  Добавить блоки рекомендаций товаров на сайт интернет магазина, чтобы повысить конверсию и средний чек заказа   \n",
       "1                                     Запустить собственную службу доставки, что сократит срок доставки заказов   \n",
       "5                      Добавить страницу отзывов клиентов о магазине, что позволит увеличить количество заказов   \n",
       "3           Изменить структура категорий, что увеличит конверсию, т.к. пользователи быстрее найдут нужный товар   \n",
       "4                              Изменить цвет фона главной страницы, чтобы увеличить вовлеченность пользователей   \n",
       "\n",
       "     ICE  \n",
       "8  16.20  \n",
       "0  13.33  \n",
       "7  11.20  \n",
       "6   8.00  \n",
       "2   7.00  \n",
       "1   2.00  \n",
       "5   1.33  \n",
       "3   1.12  \n",
       "4   1.00  "
      ]
     },
     "metadata": {},
     "output_type": "display_data"
    }
   ],
   "source": [
    "hypothesis['ICE'] = (hypothesis['impact'] * hypothesis['confidence'] / hypothesis['efforts']).round(2)\n",
    "display(hypothesis[['hypothesis','ICE']].sort_values(by='ICE', ascending=False))"
   ]
  },
  {
   "cell_type": "markdown",
   "id": "e0d19430-0cb6-4743-ae31-1bf7202a0d67",
   "metadata": {},
   "source": [
    "По фреймворку ICE в приоритете оказались гипотезы:\n",
    "1. Запустить акцию, дающую скидку на товар в день рождения\n",
    "2. Добавить два новых канала привлечения трафика, что позволит привлекать на 30% больше пользователей\n",
    "3. Добавить форму подписки на все основные страницы, чтобы собрать базу клиентов для email-рассылок"
   ]
  },
  {
   "cell_type": "markdown",
   "id": "543538eb-13e7-4c2d-84e9-e0beb3a95591",
   "metadata": {},
   "source": [
    "Применим фреймворк RICE для приоритизации гипотез и отсортируем гипотезы по убыванию приоритета."
   ]
  },
  {
   "cell_type": "code",
   "execution_count": 17,
   "id": "7d5ce8dd-6ec6-46b1-84bc-f43bf0c9c730",
   "metadata": {},
   "outputs": [
    {
     "data": {
      "text/html": [
       "<div>\n",
       "<style scoped>\n",
       "    .dataframe tbody tr th:only-of-type {\n",
       "        vertical-align: middle;\n",
       "    }\n",
       "\n",
       "    .dataframe tbody tr th {\n",
       "        vertical-align: top;\n",
       "    }\n",
       "\n",
       "    .dataframe thead th {\n",
       "        text-align: right;\n",
       "    }\n",
       "</style>\n",
       "<table border=\"1\" class=\"dataframe\">\n",
       "  <thead>\n",
       "    <tr style=\"text-align: right;\">\n",
       "      <th></th>\n",
       "      <th>hypothesis</th>\n",
       "      <th>RICE</th>\n",
       "    </tr>\n",
       "  </thead>\n",
       "  <tbody>\n",
       "    <tr>\n",
       "      <th>7</th>\n",
       "      <td>Добавить форму подписки на все основные страницы, чтобы собрать базу клиентов для email-рассылок</td>\n",
       "      <td>112.0</td>\n",
       "    </tr>\n",
       "    <tr>\n",
       "      <th>2</th>\n",
       "      <td>Добавить блоки рекомендаций товаров на сайт интернет магазина, чтобы повысить конверсию и средний чек заказа</td>\n",
       "      <td>56.0</td>\n",
       "    </tr>\n",
       "    <tr>\n",
       "      <th>0</th>\n",
       "      <td>Добавить два новых канала привлечения трафика, что позволит привлекать на 30% больше пользователей</td>\n",
       "      <td>40.0</td>\n",
       "    </tr>\n",
       "    <tr>\n",
       "      <th>6</th>\n",
       "      <td>Показать на главной странице баннеры с актуальными акциями и распродажами, чтобы увеличить конверсию</td>\n",
       "      <td>40.0</td>\n",
       "    </tr>\n",
       "    <tr>\n",
       "      <th>8</th>\n",
       "      <td>Запустить акцию, дающую скидку на товар в день рождения</td>\n",
       "      <td>16.2</td>\n",
       "    </tr>\n",
       "    <tr>\n",
       "      <th>3</th>\n",
       "      <td>Изменить структура категорий, что увеличит конверсию, т.к. пользователи быстрее найдут нужный товар</td>\n",
       "      <td>9.0</td>\n",
       "    </tr>\n",
       "    <tr>\n",
       "      <th>1</th>\n",
       "      <td>Запустить собственную службу доставки, что сократит срок доставки заказов</td>\n",
       "      <td>4.0</td>\n",
       "    </tr>\n",
       "    <tr>\n",
       "      <th>5</th>\n",
       "      <td>Добавить страницу отзывов клиентов о магазине, что позволит увеличить количество заказов</td>\n",
       "      <td>4.0</td>\n",
       "    </tr>\n",
       "    <tr>\n",
       "      <th>4</th>\n",
       "      <td>Изменить цвет фона главной страницы, чтобы увеличить вовлеченность пользователей</td>\n",
       "      <td>3.0</td>\n",
       "    </tr>\n",
       "  </tbody>\n",
       "</table>\n",
       "</div>"
      ],
      "text/plain": [
       "                                                                                                     hypothesis  \\\n",
       "7              Добавить форму подписки на все основные страницы, чтобы собрать базу клиентов для email-рассылок   \n",
       "2  Добавить блоки рекомендаций товаров на сайт интернет магазина, чтобы повысить конверсию и средний чек заказа   \n",
       "0            Добавить два новых канала привлечения трафика, что позволит привлекать на 30% больше пользователей   \n",
       "6          Показать на главной странице баннеры с актуальными акциями и распродажами, чтобы увеличить конверсию   \n",
       "8                                                       Запустить акцию, дающую скидку на товар в день рождения   \n",
       "3           Изменить структура категорий, что увеличит конверсию, т.к. пользователи быстрее найдут нужный товар   \n",
       "1                                     Запустить собственную службу доставки, что сократит срок доставки заказов   \n",
       "5                      Добавить страницу отзывов клиентов о магазине, что позволит увеличить количество заказов   \n",
       "4                              Изменить цвет фона главной страницы, чтобы увеличить вовлеченность пользователей   \n",
       "\n",
       "    RICE  \n",
       "7  112.0  \n",
       "2   56.0  \n",
       "0   40.0  \n",
       "6   40.0  \n",
       "8   16.2  \n",
       "3    9.0  \n",
       "1    4.0  \n",
       "5    4.0  \n",
       "4    3.0  "
      ]
     },
     "metadata": {},
     "output_type": "display_data"
    }
   ],
   "source": [
    "hypothesis['RICE'] = hypothesis['reach'] * hypothesis['impact'] * hypothesis['confidence'] / hypothesis['efforts']\n",
    "display(hypothesis[['hypothesis','RICE']].sort_values(by='RICE', ascending=False))"
   ]
  },
  {
   "cell_type": "markdown",
   "id": "e6315e10-575d-4eea-a09b-128be6b48ce8",
   "metadata": {},
   "source": [
    "По фреймворку RICE в приоритете оказались гипотезы:\n",
    "1. Добавить форму подписки на все основные страницы, чтобы собрать базу клиентов для email-рассылок\n",
    "2. Добавить блоки рекомендаций товаров на сайт интернет магазина, чтобы повысить конверсию и средний чек заказа\n",
    "3. Добавить два новых канала привлечения трафика, что позволит привлекать на 30% больше пользователей"
   ]
  },
  {
   "cell_type": "markdown",
   "id": "8f068aec-159b-42ff-9453-1cb548af53bc",
   "metadata": {},
   "source": [
    "### Вывод\n",
    "Приоритизация во фреймворках ICE и RICE отличается. Первые две гипотезы во фреймворке RICE оказались в топе благодаря высокому показателю Reach.\\\n",
    "С математической точки зрения чем больше числитель и меньше знаминатель, тем выше и будет конечное число. Соответственно, из-за введения новой переменной (охвата), приоритизация поменялась."
   ]
  },
  {
   "cell_type": "code",
   "execution_count": 18,
   "id": "b39f8eae-afda-432e-ae3f-156c411db1ea",
   "metadata": {},
   "outputs": [
    {
     "data": {
      "text/html": [
       "<div>\n",
       "<style scoped>\n",
       "    .dataframe tbody tr th:only-of-type {\n",
       "        vertical-align: middle;\n",
       "    }\n",
       "\n",
       "    .dataframe tbody tr th {\n",
       "        vertical-align: top;\n",
       "    }\n",
       "\n",
       "    .dataframe thead th {\n",
       "        text-align: right;\n",
       "    }\n",
       "</style>\n",
       "<table border=\"1\" class=\"dataframe\">\n",
       "  <thead>\n",
       "    <tr style=\"text-align: right;\">\n",
       "      <th></th>\n",
       "      <th>hypothesis</th>\n",
       "      <th>ICE</th>\n",
       "      <th>RICE</th>\n",
       "    </tr>\n",
       "  </thead>\n",
       "  <tbody>\n",
       "    <tr>\n",
       "      <th>0</th>\n",
       "      <td>Добавить два новых канала привлечения трафика, что позволит привлекать на 30% больше пользователей</td>\n",
       "      <td>13.33</td>\n",
       "      <td>40.0</td>\n",
       "    </tr>\n",
       "    <tr>\n",
       "      <th>1</th>\n",
       "      <td>Запустить собственную службу доставки, что сократит срок доставки заказов</td>\n",
       "      <td>2.00</td>\n",
       "      <td>4.0</td>\n",
       "    </tr>\n",
       "    <tr>\n",
       "      <th>2</th>\n",
       "      <td>Добавить блоки рекомендаций товаров на сайт интернет магазина, чтобы повысить конверсию и средний чек заказа</td>\n",
       "      <td>7.00</td>\n",
       "      <td>56.0</td>\n",
       "    </tr>\n",
       "    <tr>\n",
       "      <th>3</th>\n",
       "      <td>Изменить структура категорий, что увеличит конверсию, т.к. пользователи быстрее найдут нужный товар</td>\n",
       "      <td>1.12</td>\n",
       "      <td>9.0</td>\n",
       "    </tr>\n",
       "    <tr>\n",
       "      <th>4</th>\n",
       "      <td>Изменить цвет фона главной страницы, чтобы увеличить вовлеченность пользователей</td>\n",
       "      <td>1.00</td>\n",
       "      <td>3.0</td>\n",
       "    </tr>\n",
       "    <tr>\n",
       "      <th>5</th>\n",
       "      <td>Добавить страницу отзывов клиентов о магазине, что позволит увеличить количество заказов</td>\n",
       "      <td>1.33</td>\n",
       "      <td>4.0</td>\n",
       "    </tr>\n",
       "    <tr>\n",
       "      <th>6</th>\n",
       "      <td>Показать на главной странице баннеры с актуальными акциями и распродажами, чтобы увеличить конверсию</td>\n",
       "      <td>8.00</td>\n",
       "      <td>40.0</td>\n",
       "    </tr>\n",
       "    <tr>\n",
       "      <th>7</th>\n",
       "      <td>Добавить форму подписки на все основные страницы, чтобы собрать базу клиентов для email-рассылок</td>\n",
       "      <td>11.20</td>\n",
       "      <td>112.0</td>\n",
       "    </tr>\n",
       "    <tr>\n",
       "      <th>8</th>\n",
       "      <td>Запустить акцию, дающую скидку на товар в день рождения</td>\n",
       "      <td>16.20</td>\n",
       "      <td>16.2</td>\n",
       "    </tr>\n",
       "  </tbody>\n",
       "</table>\n",
       "</div>"
      ],
      "text/plain": [
       "                                                                                                     hypothesis  \\\n",
       "0            Добавить два новых канала привлечения трафика, что позволит привлекать на 30% больше пользователей   \n",
       "1                                     Запустить собственную службу доставки, что сократит срок доставки заказов   \n",
       "2  Добавить блоки рекомендаций товаров на сайт интернет магазина, чтобы повысить конверсию и средний чек заказа   \n",
       "3           Изменить структура категорий, что увеличит конверсию, т.к. пользователи быстрее найдут нужный товар   \n",
       "4                              Изменить цвет фона главной страницы, чтобы увеличить вовлеченность пользователей   \n",
       "5                      Добавить страницу отзывов клиентов о магазине, что позволит увеличить количество заказов   \n",
       "6          Показать на главной странице баннеры с актуальными акциями и распродажами, чтобы увеличить конверсию   \n",
       "7              Добавить форму подписки на все основные страницы, чтобы собрать базу клиентов для email-рассылок   \n",
       "8                                                       Запустить акцию, дающую скидку на товар в день рождения   \n",
       "\n",
       "     ICE   RICE  \n",
       "0  13.33   40.0  \n",
       "1   2.00    4.0  \n",
       "2   7.00   56.0  \n",
       "3   1.12    9.0  \n",
       "4   1.00    3.0  \n",
       "5   1.33    4.0  \n",
       "6   8.00   40.0  \n",
       "7  11.20  112.0  \n",
       "8  16.20   16.2  "
      ]
     },
     "metadata": {},
     "output_type": "display_data"
    }
   ],
   "source": [
    "display(hypothesis[['hypothesis','ICE','RICE']])"
   ]
  },
  {
   "cell_type": "markdown",
   "id": "6e5e0bf6-8988-4549-9321-0c7a58be4e0e",
   "metadata": {},
   "source": [
    "## Анализ A/B-теста"
   ]
  },
  {
   "cell_type": "markdown",
   "id": "4c9e5db2-c689-43b4-a40e-47d9f3ba232f",
   "metadata": {},
   "source": [
    "Данные мы посмотрели и подкорректировали, что смогли, поэтому перейдем к разбивки данных по признакам и к построению графиков."
   ]
  },
  {
   "cell_type": "code",
   "execution_count": 19,
   "id": "3a4d95d0-961d-41b7-8291-b9237295f88d",
   "metadata": {},
   "outputs": [
    {
     "data": {
      "text/html": [
       "<div>\n",
       "<style scoped>\n",
       "    .dataframe tbody tr th:only-of-type {\n",
       "        vertical-align: middle;\n",
       "    }\n",
       "\n",
       "    .dataframe tbody tr th {\n",
       "        vertical-align: top;\n",
       "    }\n",
       "\n",
       "    .dataframe thead th {\n",
       "        text-align: right;\n",
       "    }\n",
       "</style>\n",
       "<table border=\"1\" class=\"dataframe\">\n",
       "  <thead>\n",
       "    <tr style=\"text-align: right;\">\n",
       "      <th></th>\n",
       "      <th>transaction_id</th>\n",
       "      <th>visitor_id</th>\n",
       "      <th>date</th>\n",
       "      <th>revenue</th>\n",
       "      <th>group</th>\n",
       "    </tr>\n",
       "  </thead>\n",
       "  <tbody>\n",
       "    <tr>\n",
       "      <th>0</th>\n",
       "      <td>3667963787</td>\n",
       "      <td>3312258926</td>\n",
       "      <td>2019-08-15</td>\n",
       "      <td>1650</td>\n",
       "      <td>B</td>\n",
       "    </tr>\n",
       "    <tr>\n",
       "      <th>1</th>\n",
       "      <td>2804400009</td>\n",
       "      <td>3642806036</td>\n",
       "      <td>2019-08-15</td>\n",
       "      <td>730</td>\n",
       "      <td>B</td>\n",
       "    </tr>\n",
       "    <tr>\n",
       "      <th>2</th>\n",
       "      <td>2961555356</td>\n",
       "      <td>4069496402</td>\n",
       "      <td>2019-08-15</td>\n",
       "      <td>400</td>\n",
       "      <td>A</td>\n",
       "    </tr>\n",
       "    <tr>\n",
       "      <th>3</th>\n",
       "      <td>3797467345</td>\n",
       "      <td>1196621759</td>\n",
       "      <td>2019-08-15</td>\n",
       "      <td>9759</td>\n",
       "      <td>B</td>\n",
       "    </tr>\n",
       "    <tr>\n",
       "      <th>4</th>\n",
       "      <td>2282983706</td>\n",
       "      <td>2322279887</td>\n",
       "      <td>2019-08-15</td>\n",
       "      <td>2308</td>\n",
       "      <td>B</td>\n",
       "    </tr>\n",
       "  </tbody>\n",
       "</table>\n",
       "</div>"
      ],
      "text/plain": [
       "   transaction_id  visitor_id       date  revenue group\n",
       "0      3667963787  3312258926 2019-08-15     1650     B\n",
       "1      2804400009  3642806036 2019-08-15      730     B\n",
       "2      2961555356  4069496402 2019-08-15      400     A\n",
       "3      3797467345  1196621759 2019-08-15     9759     B\n",
       "4      2282983706  2322279887 2019-08-15     2308     B"
      ]
     },
     "metadata": {},
     "output_type": "display_data"
    },
    {
     "data": {
      "text/html": [
       "<div>\n",
       "<style scoped>\n",
       "    .dataframe tbody tr th:only-of-type {\n",
       "        vertical-align: middle;\n",
       "    }\n",
       "\n",
       "    .dataframe tbody tr th {\n",
       "        vertical-align: top;\n",
       "    }\n",
       "\n",
       "    .dataframe thead th {\n",
       "        text-align: right;\n",
       "    }\n",
       "</style>\n",
       "<table border=\"1\" class=\"dataframe\">\n",
       "  <thead>\n",
       "    <tr style=\"text-align: right;\">\n",
       "      <th></th>\n",
       "      <th>date</th>\n",
       "      <th>group</th>\n",
       "      <th>visitors</th>\n",
       "    </tr>\n",
       "  </thead>\n",
       "  <tbody>\n",
       "    <tr>\n",
       "      <th>0</th>\n",
       "      <td>2019-08-01</td>\n",
       "      <td>A</td>\n",
       "      <td>719</td>\n",
       "    </tr>\n",
       "    <tr>\n",
       "      <th>1</th>\n",
       "      <td>2019-08-02</td>\n",
       "      <td>A</td>\n",
       "      <td>619</td>\n",
       "    </tr>\n",
       "    <tr>\n",
       "      <th>2</th>\n",
       "      <td>2019-08-03</td>\n",
       "      <td>A</td>\n",
       "      <td>507</td>\n",
       "    </tr>\n",
       "    <tr>\n",
       "      <th>3</th>\n",
       "      <td>2019-08-04</td>\n",
       "      <td>A</td>\n",
       "      <td>717</td>\n",
       "    </tr>\n",
       "    <tr>\n",
       "      <th>4</th>\n",
       "      <td>2019-08-05</td>\n",
       "      <td>A</td>\n",
       "      <td>756</td>\n",
       "    </tr>\n",
       "  </tbody>\n",
       "</table>\n",
       "</div>"
      ],
      "text/plain": [
       "        date group  visitors\n",
       "0 2019-08-01     A       719\n",
       "1 2019-08-02     A       619\n",
       "2 2019-08-03     A       507\n",
       "3 2019-08-04     A       717\n",
       "4 2019-08-05     A       756"
      ]
     },
     "metadata": {},
     "output_type": "display_data"
    }
   ],
   "source": [
    "display(orders.head())\n",
    "display(visitors.head())"
   ]
  },
  {
   "cell_type": "markdown",
   "id": "57269924-685b-42d6-83cb-83114f91e1cd",
   "metadata": {},
   "source": [
    "### График кумулятивной выручки по группам"
   ]
  },
  {
   "cell_type": "markdown",
   "id": "d99a068f-7810-4953-b714-ed1a8e8a212b",
   "metadata": {},
   "source": [
    "Чтобы исключить проблему подсматривания, изучим графики кумулятивных метрик."
   ]
  },
  {
   "cell_type": "code",
   "execution_count": 20,
   "id": "9e855872-48a2-440c-9641-2c5560c0433d",
   "metadata": {},
   "outputs": [
    {
     "data": {
      "text/html": [
       "<div>\n",
       "<style scoped>\n",
       "    .dataframe tbody tr th:only-of-type {\n",
       "        vertical-align: middle;\n",
       "    }\n",
       "\n",
       "    .dataframe tbody tr th {\n",
       "        vertical-align: top;\n",
       "    }\n",
       "\n",
       "    .dataframe thead th {\n",
       "        text-align: right;\n",
       "    }\n",
       "</style>\n",
       "<table border=\"1\" class=\"dataframe\">\n",
       "  <thead>\n",
       "    <tr style=\"text-align: right;\">\n",
       "      <th></th>\n",
       "      <th>date</th>\n",
       "      <th>group</th>\n",
       "      <th>orders</th>\n",
       "      <th>buyers</th>\n",
       "      <th>revenue</th>\n",
       "      <th>visitors</th>\n",
       "    </tr>\n",
       "  </thead>\n",
       "  <tbody>\n",
       "    <tr>\n",
       "      <th>0</th>\n",
       "      <td>2019-08-01</td>\n",
       "      <td>A</td>\n",
       "      <td>24</td>\n",
       "      <td>20</td>\n",
       "      <td>148579</td>\n",
       "      <td>719</td>\n",
       "    </tr>\n",
       "    <tr>\n",
       "      <th>1</th>\n",
       "      <td>2019-08-01</td>\n",
       "      <td>B</td>\n",
       "      <td>21</td>\n",
       "      <td>20</td>\n",
       "      <td>101217</td>\n",
       "      <td>713</td>\n",
       "    </tr>\n",
       "    <tr>\n",
       "      <th>2</th>\n",
       "      <td>2019-08-02</td>\n",
       "      <td>A</td>\n",
       "      <td>44</td>\n",
       "      <td>38</td>\n",
       "      <td>242401</td>\n",
       "      <td>1338</td>\n",
       "    </tr>\n",
       "    <tr>\n",
       "      <th>3</th>\n",
       "      <td>2019-08-02</td>\n",
       "      <td>B</td>\n",
       "      <td>45</td>\n",
       "      <td>43</td>\n",
       "      <td>266748</td>\n",
       "      <td>1294</td>\n",
       "    </tr>\n",
       "    <tr>\n",
       "      <th>4</th>\n",
       "      <td>2019-08-03</td>\n",
       "      <td>A</td>\n",
       "      <td>68</td>\n",
       "      <td>62</td>\n",
       "      <td>354874</td>\n",
       "      <td>1845</td>\n",
       "    </tr>\n",
       "  </tbody>\n",
       "</table>\n",
       "</div>"
      ],
      "text/plain": [
       "        date group  orders  buyers  revenue  visitors\n",
       "0 2019-08-01     A      24      20   148579       719\n",
       "1 2019-08-01     B      21      20   101217       713\n",
       "2 2019-08-02     A      44      38   242401      1338\n",
       "3 2019-08-02     B      45      43   266748      1294\n",
       "4 2019-08-03     A      68      62   354874      1845"
      ]
     },
     "metadata": {},
     "output_type": "display_data"
    }
   ],
   "source": [
    "# создаем массив уникальных пар значений дат и групп теста\n",
    "datesGroups = orders[['date','group']].drop_duplicates()\n",
    "\n",
    "# получаем агрегированные кумулятивные по дням данные о заказах\n",
    "ordersAggregated = datesGroups.apply(\n",
    "    lambda x: orders[np.logical_and(orders['date'] <= x['date'], orders['group'] == x['group'])]\n",
    "    .agg(\n",
    "                                         {\n",
    "                                             'date' : 'max',\n",
    "                                             'group' : 'max',\n",
    "                                             'transaction_id' : 'nunique',\n",
    "                                             'visitor_id' : 'nunique',\n",
    "                                             'revenue' : 'sum'\n",
    "                                         }\n",
    "                                     ),\n",
    "                                     axis=1).sort_values(by=['date','group'])\n",
    "\n",
    "# получаем агрегированные кумулятивные по дням данные о посетителях интернет-магазина\n",
    "visitorsAggregated = datesGroups.apply(\n",
    "    lambda x: visitors[np.logical_and(visitors['date'] <= x['date'], visitors['group'] == x['group'])]\n",
    "    .agg(\n",
    "        {\n",
    "            'date' : 'max',\n",
    "            'group' : 'max',\n",
    "            'visitors' : 'sum'\n",
    "        }\n",
    "    ), axis=1).sort_values(by=['date','group'])\n",
    "\n",
    "# объединяем кумулятивные данные в одной таблице и присваиваем ее столбцам понятные названия\n",
    "cumulativeData = ordersAggregated.merge(visitorsAggregated, left_on=['date', 'group'], right_on=['date', 'group'])\n",
    "cumulativeData.columns = ['date', 'group', 'orders', 'buyers', 'revenue', 'visitors']\n",
    "\n",
    "display(cumulativeData.head(5))"
   ]
  },
  {
   "cell_type": "markdown",
   "id": "61653517-3718-46f6-8410-767a83d45e89",
   "metadata": {},
   "source": [
    "Построим график кумулятивной выручки по дням и группам A/B-тестирования:"
   ]
  },
  {
   "cell_type": "code",
   "execution_count": 21,
   "id": "181350ff-8bd3-4424-956e-a6262f727c36",
   "metadata": {},
   "outputs": [
    {
     "data": {
      "image/png": "[encoded data removed]",
      "text/plain": [
       "<Figure size 936x432 with 1 Axes>"
      ]
     },
     "metadata": {
      "needs_background": "light"
     },
     "output_type": "display_data"
    }
   ],
   "source": [
    "# зададим размер графика\n",
    "plt.figure(figsize=(13,6))\n",
    "\n",
    "# датафрейм с кумулятивным количеством заказов и кумулятивной выручкой по дням в группе А\n",
    "cumulativeRevenueA = cumulativeData[cumulativeData['group']=='A'][['date','revenue', 'orders']]\n",
    "\n",
    "# датафрейм с кумулятивным количеством заказов и кумулятивной выручкой по дням в группе B\n",
    "cumulativeRevenueB = cumulativeData[cumulativeData['group']=='B'][['date','revenue', 'orders']]\n",
    "\n",
    "# Строим график выручки группы А\n",
    "plt.plot(cumulativeRevenueA['date'], cumulativeRevenueA['revenue'], label='A')\n",
    "\n",
    "# Строим график выручки группы B\n",
    "plt.plot(cumulativeRevenueB['date'], cumulativeRevenueB['revenue'], label='B')\n",
    "plt.title('График кумулятивной выручки по группам')\n",
    "plt.xlabel('Дата')\n",
    "plt.ylabel('Выручка')\n",
    "plt.grid()\n",
    "plt.legend();"
   ]
  },
  {
   "cell_type": "markdown",
   "id": "a969f713-27eb-4378-b05d-fffd92b711dc",
   "metadata": {},
   "source": [
    "На графике видно, что выручка с 1 по 17 августа равномерно увеличивалась, но в 18 августа произошел данных всплеск в группе В. Причина этому может быть резкое повышение числа заказов или появлении очень дорогих покупок в выборке.\\\n",
    "\\\n",
    "Позже проанализируем выбросы, а пока перейдём к следующему графику."
   ]
  },
  {
   "cell_type": "markdown",
   "id": "100e16ca-7cfc-4ad0-9ab0-f5577947182d",
   "metadata": {},
   "source": [
    "### График кумулятивного среднего чека по группам"
   ]
  },
  {
   "cell_type": "markdown",
   "id": "75da9aa7-67ba-44d8-a8da-53bbc12cad3f",
   "metadata": {},
   "source": [
    "Построим графики среднего чека по группам — разделим кумулятивную выручку на кумулятивное число заказов."
   ]
  },
  {
   "cell_type": "code",
   "execution_count": 22,
   "id": "ec1512a0-5020-43c7-933a-88cbbaf35164",
   "metadata": {},
   "outputs": [
    {
     "data": {
      "image/png": "[encoded data removed]",
      "text/plain": [
       "<Figure size 936x432 with 1 Axes>"
      ]
     },
     "metadata": {
      "needs_background": "light"
     },
     "output_type": "display_data"
    }
   ],
   "source": [
    "plt.figure(figsize=(13,6))\n",
    "plt.plot(cumulativeRevenueA['date'], cumulativeRevenueA['revenue']/cumulativeRevenueA['orders'], label='A')\n",
    "plt.plot(cumulativeRevenueB['date'], cumulativeRevenueB['revenue']/cumulativeRevenueB['orders'], label='B')\n",
    "plt.title('График кумулятивного среднего чека по группам')\n",
    "plt.xlabel('Дата')\n",
    "plt.ylabel('Выручка')\n",
    "plt.grid()\n",
    "plt.legend();"
   ]
  },
  {
   "cell_type": "markdown",
   "id": "b35b7f8c-68a6-4ef4-98b9-e479ea6492d8",
   "metadata": {},
   "source": [
    "На графике кумулятивных средних чеков видно, что произошел всплеск 18-19 августа, поэтому можно сказать, что в этот период были совершены крупные покупки.\\\n",
    "Группа В показывает более динамичный рост на графике, чем группа А. Можно заметить, что случилась просадка в начале группы А и достижение дна 6 августа, но далее значения достигли пика на отметке 8.500 руб. 17 августа. Средний чек для группы становится равномерным ближе к концу теста.\\\n",
    "В целом, группа А имеет более равномерную тенденцию по сравнению с группой В."
   ]
  },
  {
   "cell_type": "markdown",
   "id": "2d71c67f-7862-432c-b6eb-1812d87f697e",
   "metadata": {},
   "source": [
    "### График относительного изменения кумулятивного среднего чека группы B к группе A"
   ]
  },
  {
   "cell_type": "markdown",
   "id": "82b7f17d-0f2d-4e9f-ae9e-d01296789d07",
   "metadata": {},
   "source": [
    "Построим график относительного различия для среднего чека."
   ]
  },
  {
   "cell_type": "code",
   "execution_count": 23,
   "id": "36c4785d-ad92-40db-93c8-5972ad3c5871",
   "metadata": {},
   "outputs": [
    {
     "data": {
      "image/png": "[encoded data removed]",
      "text/plain": [
       "<Figure size 936x432 with 1 Axes>"
      ]
     },
     "metadata": {
      "needs_background": "light"
     },
     "output_type": "display_data"
    }
   ],
   "source": [
    "# собираем данные в одном датафрейме\n",
    "mergedCumulativeRevenue = cumulativeRevenueA.merge(\n",
    "    cumulativeRevenueB,\n",
    "    left_on='date',\n",
    "    right_on='date',\n",
    "    how='left',\n",
    "    suffixes=['A', 'B']\n",
    ")\n",
    "plt.figure(figsize=(13,6))\n",
    "# cтроим отношение средних чеков\n",
    "plt.plot(\n",
    "    mergedCumulativeRevenue['date'],\n",
    "    (mergedCumulativeRevenue['revenueB']/mergedCumulativeRevenue['ordersB'])/(mergedCumulativeRevenue['revenueA']/mergedCumulativeRevenue['ordersA'])-1)\n",
    "plt.title('График относительного изменения\\nкумулятивного среднего чека по группам')\n",
    "plt.xlabel('Дата')\n",
    "plt.ylabel('Выручка')\n",
    "plt.grid()\n",
    "# добавляем ось X\n",
    "plt.axhline(y=0, color='black', linestyle='--');"
   ]
  },
  {
   "cell_type": "markdown",
   "id": "cb245d10-1117-4b1c-ab6d-82490fb875c7",
   "metadata": {},
   "source": [
    "Отчётливо видно, что в данных присутсвуют большие заказы и выбросы. Как и предполагалось."
   ]
  },
  {
   "cell_type": "markdown",
   "id": "43d9c56f-cbc3-4c54-b60b-da41fa22157e",
   "metadata": {},
   "source": [
    "### График кумулятивного среднего количества заказов на посетителя по группам"
   ]
  },
  {
   "cell_type": "markdown",
   "id": "1aefc17f-88f9-46c9-932d-c799080915c8",
   "metadata": {},
   "source": [
    "Проанализируем график кумулятивного среднего количества заказов на посетителя по группам. Передадим ему минимальное и максимальное значения оси x; минимальное и максимальное значения оси y — [\"2019-08-01\", '2019-09-01', 0, 0.015]."
   ]
  },
  {
   "cell_type": "code",
   "execution_count": 24,
   "id": "d95e644b-f4fd-4aa3-895d-aa1ec5037383",
   "metadata": {},
   "outputs": [
    {
     "data": {
      "image/png": "[encoded data removed]",
      "text/plain": [
       "<Figure size 936x432 with 1 Axes>"
      ]
     },
     "metadata": {
      "needs_background": "light"
     },
     "output_type": "display_data"
    }
   ],
   "source": [
    "# считаем среднее количество заказов на посетителя\n",
    "cumulativeData['conversion'] = cumulativeData['orders']/cumulativeData['visitors']\n",
    "\n",
    "# отделяем данные по группе A\n",
    "cumulativeDataA = cumulativeData[cumulativeData['group']=='A']\n",
    "\n",
    "# отделяем данные по группе B\n",
    "cumulativeDataB = cumulativeData[cumulativeData['group']=='B']\n",
    "\n",
    "# строим графики\n",
    "plt.figure(figsize=(13,6))\n",
    "plt.title('График кумулятивного среднего количества заказов\\nна посетителя по группам')\n",
    "plt.xlabel('Дата')\n",
    "plt.ylabel('Cреднее количество заказов на посетителя')\n",
    "plt.plot(cumulativeDataA['date'], cumulativeDataA['conversion'], label='A')\n",
    "plt.plot(cumulativeDataB['date'], cumulativeDataB['conversion'], label='B')\n",
    "plt.legend()\n",
    "\n",
    "# задаем масштаб осей\n",
    "plt.axis([dt.datetime(2019, 8, 1), dt.datetime(2019, 9, 1), 0.0275, 0.038]);"
   ]
  },
  {
   "cell_type": "markdown",
   "id": "2ffb5b64-27ec-4845-aea2-76f42953ccb7",
   "metadata": {},
   "source": [
    "В начале теста конверсия группы А была была выше, однако после конверсия группы B показала рост, в то время как группа А снижалась.\\\n",
    "На графике заметно пересечение графиков 6 августа, после чего произошло закрепление значений - группа В выравалась вперед и зафиксировалось, а группа А снизилась и зафиксировалась."
   ]
  },
  {
   "cell_type": "markdown",
   "id": "3643682b-c7f2-47da-9e05-0ac77ef323f4",
   "metadata": {},
   "source": [
    "### График относительного изменения кумулятивного среднего количества заказов на посетителя группы B к группе A"
   ]
  },
  {
   "cell_type": "code",
   "execution_count": 25,
   "id": "145229f6-38e0-4b66-89d3-573c39d36fb2",
   "metadata": {},
   "outputs": [
    {
     "data": {
      "image/png": "[encoded data removed]",
      "text/plain": [
       "<Figure size 936x432 with 1 Axes>"
      ]
     },
     "metadata": {
      "needs_background": "light"
     },
     "output_type": "display_data"
    }
   ],
   "source": [
    "mergedCumulativeConversions = cumulativeDataA[[\n",
    "    'date',\n",
    "    'conversion'\n",
    "]].merge(cumulativeDataB[[\n",
    "    'date',\n",
    "    'conversion']], left_on='date', right_on='date', how='left', suffixes=['A', 'B'])\n",
    "\n",
    "plt.figure(figsize=(13,6))\n",
    "plt.plot(\n",
    "    mergedCumulativeConversions['date'],\n",
    "    mergedCumulativeConversions['conversionB']/mergedCumulativeConversions['conversionA']-1,\n",
    "    label=\"Относительный прирост кумулятивного среднего количества заказов на посетителя группы B относительно группы A\")\n",
    "plt.xlabel('Дата')\n",
    "plt.ylabel('Кумулятивное среднее количество заказов\\nна посетителя')\n",
    "plt.legend()\n",
    "\n",
    "plt.axhline(y=0, color='black', linestyle='--')\n",
    "plt.axhline(y=0.15, color='grey', linestyle='--')\n",
    "plt.axis([dt.datetime(2019, 8, 1), dt.datetime(2019, 9, 1), -0.25, 0.3]);"
   ]
  },
  {
   "cell_type": "markdown",
   "id": "8d431dd5-f186-4353-8124-9cfcd5750b9e",
   "metadata": {},
   "source": [
    "Нельзя сказать, что группа А была лидером по куммулятивному среднему количества заказов. Группа В с самого начала графика показала активный рост и закрепилась выше группы А. Ближе к концу графика произошла коррекция, но нельзя сказать, что отношение среднего количества заказов на посетителя установилось. Поэтому рано делать какие-либо выводы по тесту, сначала проведем анализ аномалий."
   ]
  },
  {
   "cell_type": "markdown",
   "id": "05b6975d-4ea4-4416-b528-28e2af8f558f",
   "metadata": {},
   "source": [
    "### Точечный график количества заказов по пользователям"
   ]
  },
  {
   "cell_type": "markdown",
   "id": "25a05ef5-23a9-4c1f-a368-1fa0ed52309a",
   "metadata": {},
   "source": [
    "Изучим данные на наличие погрешностей. Для этого построим точечный график заказов по пользователям."
   ]
  },
  {
   "cell_type": "code",
   "execution_count": 26,
   "id": "9d06820b-f1aa-469c-a830-ebcfd7355ca4",
   "metadata": {},
   "outputs": [
    {
     "name": "stdout",
     "output_type": "stream",
     "text": [
      "         user_id  orders\n",
      "1023  4256040402      11\n",
      "591   2458001652      11\n",
      "569   2378935119       9\n",
      "487   2038680547       8\n",
      "44     199603092       5\n",
      "744   3062433592       5\n",
      "55     237748145       5\n",
      "917   3803269165       5\n",
      "299   1230306981       5\n",
      "897   3717692402       5\n"
     ]
    }
   ],
   "source": [
    "# агрегируем кол-во заказов на пользователя\n",
    "ordersByUsers = (\n",
    "    orders.groupby('visitor_id', as_index=False)\n",
    "    .agg({'transaction_id': 'nunique'})\n",
    ")\n",
    "# переименовываем столбцы\n",
    "ordersByUsers.columns = ['user_id', 'orders']\n",
    "\n",
    "print(ordersByUsers.sort_values(by='orders', ascending=False).head(10))"
   ]
  },
  {
   "cell_type": "code",
   "execution_count": 27,
   "id": "3de967a2-9bdc-4f2e-96e2-f767a54a388e",
   "metadata": {},
   "outputs": [
    {
     "data": {
      "image/png": "[encoded data removed]",
      "text/plain": [
       "<Figure size 720x432 with 1 Axes>"
      ]
     },
     "metadata": {
      "needs_background": "light"
     },
     "output_type": "display_data"
    }
   ],
   "source": [
    "# возьмем значения кол-ва заказов для оси ординат\n",
    "# по оси абсцисс отложим выручку\n",
    "plt.figure(figsize=(10,6))\n",
    "plt.scatter(range(0,len(ordersByUsers['user_id'])), ordersByUsers['orders'])\n",
    "plt.title('Точечный график количества заказов по пользователям')\n",
    "plt.xlabel('Пользователи')\n",
    "plt.ylabel('Количество заказов')\n",
    "plt.grid()"
   ]
  },
  {
   "cell_type": "markdown",
   "id": "21874a7b-d1df-412d-8b93-f91a323f4af3",
   "metadata": {},
   "source": [
    "Количество пользователей с более 2 заказми и более имеют свою долю в данных, но небольшую. Посчитаем выборочные перцентили количества заказов на одного пользователя, чтобы сделать более точный вывод, считать ли аномалиями 2 заказа на пользователя.а"
   ]
  },
  {
   "cell_type": "markdown",
   "id": "7e1c4962-e2c4-415b-b7ef-d1479b799e2c",
   "metadata": {},
   "source": [
    "### 95-й и 99-й перцентили количества заказов на пользователя"
   ]
  },
  {
   "cell_type": "code",
   "execution_count": 28,
   "id": "812ba19e-c851-4f49-a664-a23aff59a831",
   "metadata": {},
   "outputs": [
    {
     "name": "stdout",
     "output_type": "stream",
     "text": [
      "[2. 4.]\n"
     ]
    }
   ],
   "source": [
    "print(np.percentile(ordersByUsers['orders'], [95, 99]))"
   ]
  },
  {
   "cell_type": "markdown",
   "id": "f3b84bd3-4e88-4e2c-8005-9d6c42a89d66",
   "metadata": {},
   "source": [
    "Не более 5% пользователей оформляли больше, чем 2 заказа. И 1% пользователей заказывали более 4 раза.\\\n",
    "Границей выбросов будем считать 95%."
   ]
  },
  {
   "cell_type": "markdown",
   "id": "45f4cb5f-2b51-4e14-9d81-04ce8767a627",
   "metadata": {},
   "source": [
    "### Точечный график стоимостей заказов"
   ]
  },
  {
   "cell_type": "code",
   "execution_count": 29,
   "id": "ee3bd1b5-94d5-4781-9b29-ac71761a514c",
   "metadata": {},
   "outputs": [
    {
     "data": {
      "image/png": "[encoded data removed]",
      "text/plain": [
       "<Figure size 432x288 with 1 Axes>"
      ]
     },
     "metadata": {
      "needs_background": "light"
     },
     "output_type": "display_data"
    }
   ],
   "source": [
    "x_values = pd.Series(range(0,len(orders['revenue'])))\n",
    "plt.scatter(x_values, orders['revenue'])\n",
    "plt.title('Стоимость заказов')\n",
    "plt.xlabel('Количество пользователей')\n",
    "plt.ylabel('Стоимость заказов');"
   ]
  },
  {
   "cell_type": "markdown",
   "id": "84a49953-6684-4061-b127-63acb9ea0d11",
   "metadata": {},
   "source": [
    "На графики наблюдаются выбросы в стоимости заказов около 20 тыс. и более 120 тыс. руб. В остальных случаях прослеживается накопление данных в одной области. Посмотрим 95-й и 99-й перцентили для более точных выводов."
   ]
  },
  {
   "cell_type": "markdown",
   "id": "05cdb8bf-5e9a-4d93-b640-c14e57635ee1",
   "metadata": {},
   "source": [
    "### 95-й и 99-й перцентили стоимости заказов"
   ]
  },
  {
   "cell_type": "code",
   "execution_count": 30,
   "id": "4df6f737-00c3-482e-89d3-4dbfe02ded38",
   "metadata": {},
   "outputs": [
    {
     "name": "stdout",
     "output_type": "stream",
     "text": [
      "[28000.  58233.2]\n"
     ]
    }
   ],
   "source": [
    "print(np.percentile(orders['revenue'], [95,99]))"
   ]
  },
  {
   "cell_type": "markdown",
   "id": "07d6a516-d293-457a-b3ab-83e17e6bed94",
   "metadata": {},
   "source": [
    "Не более 5% заказов дороже 28 тыс. рублей и не более 1% дороже 58,2 тыс. рублей."
   ]
  },
  {
   "cell_type": "markdown",
   "id": "2b9f95c6-df10-4217-aa95-c5f3964dd73c",
   "metadata": {},
   "source": [
    "### Статистическая значимость различий в среднем количестве заказов на посетителя между группами по «сырым» данным"
   ]
  },
  {
   "cell_type": "markdown",
   "id": "abe768bf-7527-4cd0-a2bc-fafea1b8d784",
   "metadata": {},
   "source": [
    "Посчитаем статистическую значимость различий в среднем числе заказов на пользователя и среднем чеке между группами по «сырым» данным — без удаления аномальных пользователей. Возьмем aplpa = 0.05 и будем использовать тест Манна-Уитни. Так как данные содержат выбросы, будем использовать **непараметрический тест**. \\\n",
    "\\\n",
    "Сформируем гипотезы:\\\n",
    "*H0*: статистически значимые различия в среднем количестве заказов между группами нет.\\\n",
    "*H1*: статистически значимые различия в среднем между группами есть."
   ]
  },
  {
   "cell_type": "code",
   "execution_count": 31,
   "id": "f2f8d599-fb88-4d44-9656-d631000a0ce1",
   "metadata": {},
   "outputs": [
    {
     "data": {
      "text/html": [
       "<div>\n",
       "<style scoped>\n",
       "    .dataframe tbody tr th:only-of-type {\n",
       "        vertical-align: middle;\n",
       "    }\n",
       "\n",
       "    .dataframe tbody tr th {\n",
       "        vertical-align: top;\n",
       "    }\n",
       "\n",
       "    .dataframe thead th {\n",
       "        text-align: right;\n",
       "    }\n",
       "</style>\n",
       "<table border=\"1\" class=\"dataframe\">\n",
       "  <thead>\n",
       "    <tr style=\"text-align: right;\">\n",
       "      <th></th>\n",
       "      <th>transaction_id</th>\n",
       "      <th>visitor_id</th>\n",
       "      <th>date</th>\n",
       "      <th>revenue</th>\n",
       "      <th>group</th>\n",
       "    </tr>\n",
       "  </thead>\n",
       "  <tbody>\n",
       "    <tr>\n",
       "      <th>0</th>\n",
       "      <td>3667963787</td>\n",
       "      <td>3312258926</td>\n",
       "      <td>2019-08-15</td>\n",
       "      <td>1650</td>\n",
       "      <td>B</td>\n",
       "    </tr>\n",
       "    <tr>\n",
       "      <th>1</th>\n",
       "      <td>2804400009</td>\n",
       "      <td>3642806036</td>\n",
       "      <td>2019-08-15</td>\n",
       "      <td>730</td>\n",
       "      <td>B</td>\n",
       "    </tr>\n",
       "    <tr>\n",
       "      <th>2</th>\n",
       "      <td>2961555356</td>\n",
       "      <td>4069496402</td>\n",
       "      <td>2019-08-15</td>\n",
       "      <td>400</td>\n",
       "      <td>A</td>\n",
       "    </tr>\n",
       "    <tr>\n",
       "      <th>3</th>\n",
       "      <td>3797467345</td>\n",
       "      <td>1196621759</td>\n",
       "      <td>2019-08-15</td>\n",
       "      <td>9759</td>\n",
       "      <td>B</td>\n",
       "    </tr>\n",
       "    <tr>\n",
       "      <th>4</th>\n",
       "      <td>2282983706</td>\n",
       "      <td>2322279887</td>\n",
       "      <td>2019-08-15</td>\n",
       "      <td>2308</td>\n",
       "      <td>B</td>\n",
       "    </tr>\n",
       "  </tbody>\n",
       "</table>\n",
       "</div>"
      ],
      "text/plain": [
       "   transaction_id  visitor_id       date  revenue group\n",
       "0      3667963787  3312258926 2019-08-15     1650     B\n",
       "1      2804400009  3642806036 2019-08-15      730     B\n",
       "2      2961555356  4069496402 2019-08-15      400     A\n",
       "3      3797467345  1196621759 2019-08-15     9759     B\n",
       "4      2282983706  2322279887 2019-08-15     2308     B"
      ]
     },
     "execution_count": 31,
     "metadata": {},
     "output_type": "execute_result"
    }
   ],
   "source": [
    "orders.head()"
   ]
  },
  {
   "cell_type": "code",
   "execution_count": 32,
   "id": "3a97e34a-78e4-4d60-bc41-771626ca9c01",
   "metadata": {},
   "outputs": [
    {
     "data": {
      "text/html": [
       "<div>\n",
       "<style scoped>\n",
       "    .dataframe tbody tr th:only-of-type {\n",
       "        vertical-align: middle;\n",
       "    }\n",
       "\n",
       "    .dataframe tbody tr th {\n",
       "        vertical-align: top;\n",
       "    }\n",
       "\n",
       "    .dataframe thead th {\n",
       "        text-align: right;\n",
       "    }\n",
       "</style>\n",
       "<table border=\"1\" class=\"dataframe\">\n",
       "  <thead>\n",
       "    <tr style=\"text-align: right;\">\n",
       "      <th></th>\n",
       "      <th>date</th>\n",
       "      <th>ordersPerDateA</th>\n",
       "      <th>revenuePerDateA</th>\n",
       "      <th>ordersPerDateB</th>\n",
       "      <th>revenuePerDateB</th>\n",
       "      <th>ordersCummulativeA</th>\n",
       "      <th>revenueCummulativeA</th>\n",
       "      <th>ordersCummulativeB</th>\n",
       "      <th>revenueCummulativeB</th>\n",
       "      <th>visitorsPerDateA</th>\n",
       "      <th>visitorsPerDateB</th>\n",
       "      <th>visitorsCummulativeA</th>\n",
       "      <th>visitorsCummulativeB</th>\n",
       "    </tr>\n",
       "  </thead>\n",
       "  <tbody>\n",
       "    <tr>\n",
       "      <th>0</th>\n",
       "      <td>2019-08-01</td>\n",
       "      <td>24</td>\n",
       "      <td>148579</td>\n",
       "      <td>21</td>\n",
       "      <td>101217</td>\n",
       "      <td>24</td>\n",
       "      <td>148579</td>\n",
       "      <td>21</td>\n",
       "      <td>101217</td>\n",
       "      <td>719</td>\n",
       "      <td>713</td>\n",
       "      <td>719</td>\n",
       "      <td>713</td>\n",
       "    </tr>\n",
       "    <tr>\n",
       "      <th>1</th>\n",
       "      <td>2019-08-02</td>\n",
       "      <td>20</td>\n",
       "      <td>93822</td>\n",
       "      <td>24</td>\n",
       "      <td>165531</td>\n",
       "      <td>44</td>\n",
       "      <td>242401</td>\n",
       "      <td>45</td>\n",
       "      <td>266748</td>\n",
       "      <td>619</td>\n",
       "      <td>581</td>\n",
       "      <td>1338</td>\n",
       "      <td>1294</td>\n",
       "    </tr>\n",
       "    <tr>\n",
       "      <th>2</th>\n",
       "      <td>2019-08-03</td>\n",
       "      <td>24</td>\n",
       "      <td>112473</td>\n",
       "      <td>16</td>\n",
       "      <td>114248</td>\n",
       "      <td>68</td>\n",
       "      <td>354874</td>\n",
       "      <td>61</td>\n",
       "      <td>380996</td>\n",
       "      <td>507</td>\n",
       "      <td>509</td>\n",
       "      <td>1845</td>\n",
       "      <td>1803</td>\n",
       "    </tr>\n",
       "    <tr>\n",
       "      <th>3</th>\n",
       "      <td>2019-08-04</td>\n",
       "      <td>16</td>\n",
       "      <td>70825</td>\n",
       "      <td>17</td>\n",
       "      <td>108571</td>\n",
       "      <td>84</td>\n",
       "      <td>425699</td>\n",
       "      <td>78</td>\n",
       "      <td>489567</td>\n",
       "      <td>717</td>\n",
       "      <td>770</td>\n",
       "      <td>2562</td>\n",
       "      <td>2573</td>\n",
       "    </tr>\n",
       "    <tr>\n",
       "      <th>4</th>\n",
       "      <td>2019-08-05</td>\n",
       "      <td>25</td>\n",
       "      <td>124218</td>\n",
       "      <td>23</td>\n",
       "      <td>92428</td>\n",
       "      <td>109</td>\n",
       "      <td>549917</td>\n",
       "      <td>101</td>\n",
       "      <td>581995</td>\n",
       "      <td>756</td>\n",
       "      <td>707</td>\n",
       "      <td>3318</td>\n",
       "      <td>3280</td>\n",
       "    </tr>\n",
       "  </tbody>\n",
       "</table>\n",
       "</div>"
      ],
      "text/plain": [
       "        date  ordersPerDateA  revenuePerDateA  ordersPerDateB  \\\n",
       "0 2019-08-01              24           148579              21   \n",
       "1 2019-08-02              20            93822              24   \n",
       "2 2019-08-03              24           112473              16   \n",
       "3 2019-08-04              16            70825              17   \n",
       "4 2019-08-05              25           124218              23   \n",
       "\n",
       "   revenuePerDateB  ordersCummulativeA  revenueCummulativeA  \\\n",
       "0           101217                  24               148579   \n",
       "1           165531                  44               242401   \n",
       "2           114248                  68               354874   \n",
       "3           108571                  84               425699   \n",
       "4            92428                 109               549917   \n",
       "\n",
       "   ordersCummulativeB  revenueCummulativeB  visitorsPerDateA  \\\n",
       "0                  21               101217               719   \n",
       "1                  45               266748               619   \n",
       "2                  61               380996               507   \n",
       "3                  78               489567               717   \n",
       "4                 101               581995               756   \n",
       "\n",
       "   visitorsPerDateB  visitorsCummulativeA  visitorsCummulativeB  \n",
       "0               713                   719                   713  \n",
       "1               581                  1338                  1294  \n",
       "2               509                  1845                  1803  \n",
       "3               770                  2562                  2573  \n",
       "4               707                  3318                  3280  "
      ]
     },
     "metadata": {},
     "output_type": "display_data"
    }
   ],
   "source": [
    "# создадим переменную количество пользователей в выбранную дату в группе A\n",
    "visitorsADaily = visitors[visitors['group'] == 'A'][['date', 'visitors']]\n",
    "visitorsADaily.columns = ['date', 'visitorsPerDateA']\n",
    "# создадим переменную количество пользователей до выбранной даты включительно в группе A\n",
    "visitorsACummulative = visitorsADaily.apply(\n",
    "    lambda x: visitorsADaily[visitorsADaily['date'] <= x['date']].agg(\n",
    "        {'date': 'max', 'visitorsPerDateA': 'sum'}\n",
    "    ),\n",
    "    axis=1,\n",
    ")\n",
    "visitorsACummulative.columns = ['date', 'visitorsCummulativeA']\n",
    "\n",
    "# создадим переменную количество пользователей в выбранную дату в группе В\n",
    "visitorsBDaily = visitors[visitors['group'] == 'B'][['date', 'visitors']]\n",
    "visitorsBDaily.columns = ['date', 'visitorsPerDateB']\n",
    "\n",
    "# создадим переменную количество пользователей до выбранной даты включительно в группе В\n",
    "visitorsBCummulative = visitorsBDaily.apply(\n",
    "    lambda x: visitorsBDaily[visitorsBDaily['date'] <= x['date']].agg(\n",
    "        {'date': 'max', 'visitorsPerDateB': 'sum'}\n",
    "    ),\n",
    "    axis=1,\n",
    ")\n",
    "visitorsBCummulative.columns = ['date', 'visitorsCummulativeB']\n",
    "\n",
    "# создадим переменную количество заказов в выбранную дату в группе А\n",
    "ordersADaily = (\n",
    "    orders[orders['group'] == 'A'][['date', 'transaction_id', 'visitor_id', 'revenue']]\n",
    "    .groupby('date', as_index=False)\n",
    "    .agg({'transaction_id': pd.Series.nunique, 'revenue': 'sum'})\n",
    ")\n",
    "ordersADaily.columns = ['date', 'ordersPerDateA', 'revenuePerDateA']\n",
    "\n",
    "# суммарное число заказов до выбранной даты включительно в группе A\n",
    "ordersACummulative = ordersADaily.apply(\n",
    "    lambda x: ordersADaily[ordersADaily['date'] <= x['date']].agg(\n",
    "        {'date': 'max', 'ordersPerDateA': 'sum', 'revenuePerDateA': 'sum'}\n",
    "    ),\n",
    "    axis=1,\n",
    ").sort_values(by=['date'])\n",
    "ordersACummulative.columns = [\n",
    "    'date',\n",
    "    'ordersCummulativeA',\n",
    "    'revenueCummulativeA',\n",
    "]\n",
    "\n",
    "# создадим переменную количество заказов в выбранную дату в группе В\n",
    "ordersBDaily = (\n",
    "    orders[orders['group'] == 'B'][['date', 'transaction_id', 'visitor_id', 'revenue']]\n",
    "    .groupby('date', as_index=False)\n",
    "    .agg({'transaction_id': pd.Series.nunique, 'revenue': 'sum'})\n",
    ")\n",
    "ordersBDaily.columns = ['date', 'ordersPerDateB', 'revenuePerDateB']\n",
    "\n",
    "# суммарное число заказов до выбранной даты включительно в группе В\n",
    "ordersBCummulative = ordersBDaily.apply(\n",
    "    lambda x: ordersBDaily[ordersBDaily['date'] <= x['date']].agg(\n",
    "        {'date': 'max', 'ordersPerDateB': 'sum', 'revenuePerDateB': 'sum'}\n",
    "    ),\n",
    "    axis=1,\n",
    ").sort_values(by=['date'])\n",
    "ordersBCummulative.columns = [\n",
    "    'date',\n",
    "    'ordersCummulativeB',\n",
    "    'revenueCummulativeB',\n",
    "]\n",
    "\n",
    "# объединим данные\n",
    "data = (\n",
    "    ordersADaily.merge(\n",
    "        ordersBDaily, left_on='date', right_on='date', how='left'\n",
    "    )\n",
    "    .merge(ordersACummulative, left_on='date', right_on='date', how='left')\n",
    "    .merge(ordersBCummulative, left_on='date', right_on='date', how='left')\n",
    "    .merge(visitorsADaily, left_on='date', right_on='date', how='left')\n",
    "    .merge(visitorsBDaily, left_on='date', right_on='date', how='left')\n",
    "    .merge(visitorsACummulative, left_on='date', right_on='date', how='left')\n",
    "    .merge(visitorsBCummulative, left_on='date', right_on='date', how='left')\n",
    ")\n",
    "\n",
    "display(data.head(5))"
   ]
  },
  {
   "cell_type": "markdown",
   "id": "d744a159-ea5c-4f28-83de-476d24788185",
   "metadata": {},
   "source": [
    "Посчитаем статистическую значимость различия в среднем количестве заказов между группами.\n",
    "\n",
    "Создадим переменные `ordersByUsersA` и `ordersByUsersB` со столбцами `['user_id', 'orders']`. В них для пользователей, которые заказывали хотя бы 1 раз, укажем число совершённых заказов."
   ]
  },
  {
   "cell_type": "code",
   "execution_count": 33,
   "id": "34742478-0cb3-4706-965b-cc958386257e",
   "metadata": {},
   "outputs": [
    {
     "name": "stdout",
     "output_type": "stream",
     "text": [
      "P-value: 0.017\n",
      "Относительные различия: 0.138\n"
     ]
    }
   ],
   "source": [
    "ordersByUsersA = (\n",
    "    orders[orders['group'] == 'A']\n",
    "    .groupby('visitor_id', as_index=False)\n",
    "    .agg({'transaction_id': pd.Series.nunique})\n",
    ")\n",
    "ordersByUsersA.columns = ['user_id', 'orders']\n",
    "\n",
    "ordersByUsersB = (\n",
    "    orders[orders['group'] == 'B']\n",
    "    .groupby('visitor_id', as_index=False)\n",
    "    .agg({'transaction_id': pd.Series.nunique})\n",
    ")\n",
    "ordersByUsersB.columns = ['user_id', 'orders']\n",
    "\n",
    "# объявим переменные sampleA и sampleB, в которых пользователям из разных групп будет соответствовать количество заказов\n",
    "# тем, кто ничего не заказал, будут соответствовать нули\n",
    "sampleA = pd.concat(\n",
    "    [\n",
    "        ordersByUsersA['orders'],\n",
    "        pd.Series(\n",
    "            0,\n",
    "            index=np.arange(\n",
    "                data['visitorsPerDateA'].sum() - len(ordersByUsersA['orders'])\n",
    "            ),\n",
    "            name='orders',\n",
    "        ),\n",
    "    ],\n",
    "    axis=0,\n",
    ")\n",
    "\n",
    "sampleB = pd.concat(\n",
    "    [\n",
    "        ordersByUsersB['orders'],\n",
    "        pd.Series(\n",
    "            0,\n",
    "            index=np.arange(\n",
    "                data['visitorsPerDateB'].sum() - len(ordersByUsersB['orders'])\n",
    "            ),\n",
    "            name='orders',\n",
    "        ),\n",
    "    ],\n",
    "    axis=0,\n",
    ")\n",
    "\n",
    "print('P-value:',\"{0:.3f}\".format(stats.mannwhitneyu(sampleA, sampleB)[1]))\n",
    "\n",
    "print('Относительные различия:',\"{0:.3f}\".format(sampleB.mean() / sampleA.mean() - 1))"
   ]
  },
  {
   "cell_type": "markdown",
   "id": "49d82d2a-b32d-4303-aeee-7ed16d12b68c",
   "metadata": {},
   "source": [
    "**Вывод:** p-значение оказалось меньше 0.05, что говорит о различии в среднем между группами. Соответственно, нулевая гипотеза (Н0) отвергается. Относительный прирост группы B к группе А равен 13.8% — второе число в выводе."
   ]
  },
  {
   "cell_type": "markdown",
   "id": "d19889de-f8a0-4b51-b7ec-3ceb1b75e8ec",
   "metadata": {},
   "source": [
    "### Статистическая значимость различий в среднем чеке заказа между группами по «сырым» данным"
   ]
  },
  {
   "cell_type": "markdown",
   "id": "6622acf7-f2e8-41c0-b1f8-816cf5fc3c89",
   "metadata": {},
   "source": [
    "Проверим статистическую значимость различий в среднем чеке между сегментами.\\\n",
    "*Н0*: различий в среднем чеке между группами нет;\\\n",
    "*Н1*: различия в среднем чеке между группами есть.\\\n",
    "\\\n",
    "Найдём относительные различия в среднем чеке между группами."
   ]
  },
  {
   "cell_type": "code",
   "execution_count": 34,
   "id": "c0cdf1f5-ab45-4a7e-af2d-52d3459ec72a",
   "metadata": {},
   "outputs": [
    {
     "name": "stdout",
     "output_type": "stream",
     "text": [
      "0.729\n",
      "0.259\n"
     ]
    }
   ],
   "source": [
    "print('{0:.3f}'.format(stats.mannwhitneyu(orders[orders['group']=='A']['revenue'], orders[orders['group']=='B']['revenue'])[1]))\n",
    "print('{0:.3f}'.format(orders[orders['group']=='B']['revenue'].mean()/orders[orders['group']=='A']['revenue'].mean()-1))"
   ]
  },
  {
   "cell_type": "markdown",
   "id": "e74fabd6-3a92-4d30-ba01-710ea059ae92",
   "metadata": {},
   "source": [
    "P-value значительно больше 0.05. Значит, причин отвергать нулевую гипотезу и считать, что в среднем чеке есть различия, нет.\\\n",
    "Относительное различие среднего чека между сегментами около 26%."
   ]
  },
  {
   "cell_type": "markdown",
   "id": "04300e36-5743-45c0-93a3-c1101c0aa78b",
   "metadata": {},
   "source": [
    "### Статистическая значимость различий в среднем количестве заказов на посетителя между группами по «очищенным» данным"
   ]
  },
  {
   "cell_type": "markdown",
   "id": "3c60ff31-a096-4cd8-baa4-d0d74edca033",
   "metadata": {},
   "source": [
    "Теперь рассмотрим \"очищенные данные\" и сделаем вывод на их основе.\\\n",
    "\\\n",
    "Напомним, что 95-й и 99-й перцентили средних чеков равны  28 тыс. руб. и 58,2 тыс. руб., соответсвенно. А 95-й и 99-й перцентили количества заказов на одного пользователя равны 2 и 4 заказа на пользователя.\\\n",
    "\\\n",
    "Примем за аномальных пользователей тех, кто совершил от 2-х заказов или заказ дороже 28 тыс. рублей."
   ]
  },
  {
   "cell_type": "code",
   "execution_count": 35,
   "id": "246d9e0d-234a-444d-a4d1-f7902b3b781e",
   "metadata": {},
   "outputs": [
    {
     "name": "stdout",
     "output_type": "stream",
     "text": [
      "858     192721366\n",
      "18      199603092\n",
      "23      237748145\n",
      "37      249864742\n",
      "1099    316924019\n",
      "dtype: int64\n",
      "Количество аномальных пользователей: 80\n"
     ]
    }
   ],
   "source": [
    "# создадим переменные перцентилей для фильрации\n",
    "percent_orders = int(np.percentile(ordersByUsers['orders'], [95]))\n",
    "percent_revenue = int(np.percentile(orders['revenue'], [95]))\n",
    "\n",
    "usersWithManyOrders = pd.concat(\n",
    "    [\n",
    "        ordersByUsersA[ordersByUsersA['orders'] > percent_orders]['user_id'],\n",
    "        ordersByUsersB[ordersByUsersB['orders'] > percent_orders]['user_id'],\n",
    "    ],\n",
    "    axis=0,\n",
    ")\n",
    "usersWithExpensiveOrders = orders[orders['revenue'] > percent_revenue]['transaction_id']\n",
    "abnormalUsers = (\n",
    "    pd.concat([usersWithManyOrders, usersWithExpensiveOrders], axis=0)\n",
    "    .drop_duplicates()\n",
    "    .sort_values()\n",
    ")\n",
    "print(abnormalUsers.head(5))\n",
    "print('Количество аномальных пользователей:',abnormalUsers.shape[0]);"
   ]
  },
  {
   "cell_type": "markdown",
   "id": "ee21d2c3-5bda-43ae-a532-730e37079c0b",
   "metadata": {},
   "source": [
    "Всего аномальных пользователей - **80**. Посчитаем статистическую значимость различий в среднем количестве заказов между группами теста по очищенным данным и посмотрим как аномальные пользователи повлияли на результат теста."
   ]
  },
  {
   "cell_type": "code",
   "execution_count": 36,
   "id": "52272811-d6ec-4c73-8bd8-bc2ab8d359f6",
   "metadata": {},
   "outputs": [],
   "source": [
    "sampleAFiltered = pd.concat(\n",
    "    [\n",
    "        ordersByUsersA[\n",
    "            np.logical_not(ordersByUsersA['user_id'].isin(abnormalUsers))\n",
    "        ]['orders'],\n",
    "        pd.Series(\n",
    "            0,\n",
    "            index=np.arange(\n",
    "                data['visitorsPerDateA'].sum() - len(ordersByUsersA['orders'])\n",
    "            ),\n",
    "            name='orders',\n",
    "        ),\n",
    "    ],\n",
    "    axis=0,\n",
    ")\n",
    "\n",
    "sampleBFiltered = pd.concat(\n",
    "    [\n",
    "        ordersByUsersB[\n",
    "            np.logical_not(ordersByUsersB['user_id'].isin(abnormalUsers))\n",
    "        ]['orders'],\n",
    "        pd.Series(\n",
    "            0,\n",
    "            index=np.arange(\n",
    "                data['visitorsPerDateB'].sum() - len(ordersByUsersB['orders'])\n",
    "            ),\n",
    "            name='orders',\n",
    "        ),\n",
    "    ],\n",
    "    axis=0,\n",
    ")"
   ]
  },
  {
   "cell_type": "markdown",
   "id": "4ecdfe25-deb3-42e4-9fc5-b9578442d97a",
   "metadata": {},
   "source": [
    "Применим статистический критерий Манна-Уитни к полученным выборкам. Возьмём за alpha = 0.05\\\n",
    "Сформируем гипотезы:\\\n",
    "*H0*: статистически значимые различия в среднем количестве заказов между группами нет.\\\n",
    "*H1*: статистически значимые различия в среднем между группами есть."
   ]
  },
  {
   "cell_type": "code",
   "execution_count": 37,
   "id": "2eda80ce-3524-46f1-89ce-13ebe6d15096",
   "metadata": {},
   "outputs": [
    {
     "name": "stdout",
     "output_type": "stream",
     "text": [
      "P-value: 0.012\n",
      "Относительные различия: 0.170\n"
     ]
    }
   ],
   "source": [
    "print('P-value:','{0:.3f}'.format(stats.mannwhitneyu(sampleAFiltered, sampleBFiltered)[1]))\n",
    "print('Относительные различия:','{0:.3f}'.format(sampleBFiltered.mean()/sampleAFiltered.mean()-1))"
   ]
  },
  {
   "cell_type": "markdown",
   "id": "229f59ea-7ffd-40ad-afc5-40019e0c33de",
   "metadata": {},
   "source": [
    "P-значение оказалось меньше 0.05, что говорит о различии в среднем между группами. Соответственно, нулевая гипотеза (Н0) отвергается.\\\n",
    "Относительный различия в среднем количестве заказов на посетителя между группами составляет 17%."
   ]
  },
  {
   "cell_type": "markdown",
   "id": "bd6eaa1f-1042-4572-94af-68c3dbb203b4",
   "metadata": {},
   "source": [
    "Результаты по среднему количеству заказов практически не изменились, отклонения несущественны."
   ]
  },
  {
   "cell_type": "markdown",
   "id": "a8292d4c-822e-48e4-92b4-30d7ef392f62",
   "metadata": {},
   "source": [
    "### Cтатистическая значимость различий в среднем чеке заказа между группами по «очищенным» данным"
   ]
  },
  {
   "cell_type": "markdown",
   "id": "9dd9e03f-faa9-4a62-bd48-90f9148d773e",
   "metadata": {},
   "source": [
    "Применим статистический критерий Манна-Уитни к полученным выборкам. Возьмём за alpha = 0.05\\\n",
    "Сформируем гипотезы:\\\n",
    "H0: статистически значимые различия в среднем чеке заказа между группами нет;\\\n",
    "H1: статистически значимые различия в среднем чеке заказа между группами есть."
   ]
  },
  {
   "cell_type": "code",
   "execution_count": 38,
   "id": "b2ed2387-c74b-4dcd-a389-3ca3cb6278a4",
   "metadata": {},
   "outputs": [
    {
     "name": "stdout",
     "output_type": "stream",
     "text": [
      "P-value: 0.661\n",
      "Относительные различия: 0.234\n"
     ]
    }
   ],
   "source": [
    "print('P-value:',\n",
    "    '{0:.3f}'.format(\n",
    "        stats.mannwhitneyu(\n",
    "            orders[\n",
    "                np.logical_and(\n",
    "                    orders['group'] == 'A',\n",
    "                    np.logical_not(orders['visitor_id'].isin(abnormalUsers)),\n",
    "                )\n",
    "            ]['revenue'],\n",
    "            orders[\n",
    "                np.logical_and(\n",
    "                    orders['group'] == 'B',\n",
    "                    np.logical_not(orders['visitor_id'].isin(abnormalUsers)),\n",
    "                )\n",
    "            ]['revenue'],\n",
    "        )[1]\n",
    "    )\n",
    ")\n",
    "\n",
    "print('Относительные различия:',\n",
    "    \"{0:.3f}\".format(\n",
    "        orders[\n",
    "            np.logical_and(\n",
    "                orders['group'] == 'B',\n",
    "                np.logical_not(orders['visitor_id'].isin(abnormalUsers)),\n",
    "            )\n",
    "        ]['revenue'].mean()\n",
    "        / orders[\n",
    "            np.logical_and(\n",
    "                orders['group'] == 'A',\n",
    "                np.logical_not(orders['visitor_id'].isin(abnormalUsers)),\n",
    "            )\n",
    "        ]['revenue'].mean()\n",
    "        - 1\n",
    "    )\n",
    ")"
   ]
  },
  {
   "cell_type": "markdown",
   "id": "182b5b94-6146-4a45-8b70-eb1224f02e3d",
   "metadata": {},
   "source": [
    "P-value увеличился с 0.729 до 0.993, а разница между сегментами сократилась осталась неизменной.\\\n",
    "Следовательно, можем сделать вывод, что разница оказалась несущественной и нулевую гипотезу не можем отвергнуть."
   ]
  },
  {
   "cell_type": "markdown",
   "id": "013692f9-3694-4024-bf5c-db507137dc79",
   "metadata": {},
   "source": [
    "## Общий вывод"
   ]
  },
  {
   "cell_type": "markdown",
   "id": "5e7579a2-d842-4fbc-9d0d-22b9fa1c5858",
   "metadata": {},
   "source": [
    "- Отсутствует статистически значимое различие по среднему количеству заказов между группами ни по «сырым», ни по данным после фильтрации аномалий;\n",
    "- Есть статистически значимое различия по среднему чеку между группами по «сырым» и по данным после фильтрации аномалий;\n",
    "- График различия среднего количества заказов между группами сообщает, что результаты группы B лучше группы A на 15% и присутствует дальнейший потенциал к росту;\n",
    "- График различия среднего чека говорит о том, что результаты группы B также лучше группы А на 20%.\\\n",
    "На основании вышеизложенных фактов можно сделать вывод, что **тест можно остановить**, так как группа B превосходит группу А и дальнейшее тестирование будет бессмысленно."
   ]
  },
  {
   "cell_type": "markdown",
   "id": "4a4f541b-c149-444c-b651-9d13a51b72ac",
   "metadata": {},
   "source": [
    "### Задачи:\n",
    "__Приоритизация гипотез:__\n",
    "- [x] Применить фреймворк ICE для приоритизации гипотез и отсортировать их по убыванию приоритета;\n",
    "- [x] Применить фреймворк RICE для приоритизации гипотез и отсортировать их по убыванию приоритета;\n",
    "- [x] Указать, как изменилась приоритизация гипотез при применении RICE вместо ICE и объяснить причину;\\\n",
    "__Анализ A/B-теста:__\n",
    "- [x] Построить график кумулятивной выручки по группам. Сделать выводы и предположения;\n",
    "- [x] Построить график кумулятивного среднего чека по группам. Сделать выводы и предположения;\n",
    "- [x] Построить график относительного изменения кумулятивного среднего чека группы B к группе A. Сделать выводы и предположения;\n",
    "- [x] Построить график кумулятивного среднего количества заказов на посетителя по группам. Сделать выводы и предположения;\n",
    "- [x] Построить график относительного изменения кумулятивного среднего количества заказов на посетителя группы B к группе A. Сделать выводы и предположения;\n",
    "- [x] Построить точечный график количества заказов по пользователям. Сделать выводы и предположения;\n",
    "- [x] Посчитать 95-й и 99-й перцентили количества заказов на пользователя. Выбрать границу для определения аномальных пользователей;\n",
    "- [x] Построить точечный график стоимостей заказов. Сделать выводы и предположения;\n",
    "- [x] Посчитать 95-й и 99-й перцентили стоимости заказов. Выбрать границу для определения аномальных заказов;\n",
    "- [x] Посчитать статистическую значимость различий в среднем количестве заказов на посетителя между группами по «сырым» данным. Сделать выводы и предположения;\n",
    "- [x] Посчитать статистическую значимость различий в среднем чеке заказа между группами по «сырым» данным. Сделать выводы и предположения;\n",
    "- [x] Посчитать статистическую значимость различий в среднем количестве заказов на посетителя между группами по «очищенным» данным. Сделать выводы и предположения;\n",
    "- [x] Посчитать статистическую значимость различий в среднем чеке заказа между группами по «очищенным» данным. Сделать выводы и предположения;\n",
    "- [x] Принять решение по результатам теста и объясните его.\\\n",
    "\\\n",
    "Все поставленные задачи были выполнены и цели достигнуты."
   ]
  }
 ],
 "metadata": {
  "ExecuteTimeLog": [
   {
    "duration": 1306,
    "start_time": "2024-07-25T05:03:49.599Z"
   },
   {
    "duration": 224,
    "start_time": "2024-07-25T05:03:50.908Z"
   },
   {
    "duration": 21,
    "start_time": "2024-07-25T05:03:51.133Z"
   },
   {
    "duration": 29,
    "start_time": "2024-07-25T05:03:51.156Z"
   },
   {
    "duration": 5,
    "start_time": "2024-07-25T05:03:51.186Z"
   },
   {
    "duration": 24,
    "start_time": "2024-07-25T05:03:51.192Z"
   },
   {
    "duration": 107,
    "start_time": "2024-07-25T05:03:51.218Z"
   },
   {
    "duration": 0,
    "start_time": "2024-07-25T05:03:51.328Z"
   },
   {
    "duration": 0,
    "start_time": "2024-07-25T05:03:51.331Z"
   },
   {
    "duration": 0,
    "start_time": "2024-07-25T05:03:51.332Z"
   },
   {
    "duration": 0,
    "start_time": "2024-07-25T05:03:51.334Z"
   },
   {
    "duration": 0,
    "start_time": "2024-07-25T05:03:51.335Z"
   },
   {
    "duration": 0,
    "start_time": "2024-07-25T05:03:51.337Z"
   },
   {
    "duration": 0,
    "start_time": "2024-07-25T05:03:51.338Z"
   },
   {
    "duration": 0,
    "start_time": "2024-07-25T05:03:51.340Z"
   },
   {
    "duration": 0,
    "start_time": "2024-07-25T05:03:51.341Z"
   },
   {
    "duration": 0,
    "start_time": "2024-07-25T05:03:51.342Z"
   },
   {
    "duration": 0,
    "start_time": "2024-07-25T05:03:51.344Z"
   },
   {
    "duration": 0,
    "start_time": "2024-07-25T05:03:51.345Z"
   },
   {
    "duration": 1,
    "start_time": "2024-07-25T05:03:51.345Z"
   },
   {
    "duration": 0,
    "start_time": "2024-07-25T05:03:51.347Z"
   },
   {
    "duration": 0,
    "start_time": "2024-07-25T05:03:51.348Z"
   },
   {
    "duration": 0,
    "start_time": "2024-07-25T05:03:51.349Z"
   },
   {
    "duration": 0,
    "start_time": "2024-07-25T05:03:51.350Z"
   },
   {
    "duration": 0,
    "start_time": "2024-07-25T05:03:51.351Z"
   },
   {
    "duration": 0,
    "start_time": "2024-07-25T05:03:51.352Z"
   },
   {
    "duration": 0,
    "start_time": "2024-07-25T05:03:51.353Z"
   },
   {
    "duration": 0,
    "start_time": "2024-07-25T05:03:51.354Z"
   },
   {
    "duration": 0,
    "start_time": "2024-07-25T05:03:51.355Z"
   },
   {
    "duration": 0,
    "start_time": "2024-07-25T05:03:51.356Z"
   },
   {
    "duration": 0,
    "start_time": "2024-07-25T05:03:51.357Z"
   },
   {
    "duration": 0,
    "start_time": "2024-07-25T05:03:51.404Z"
   },
   {
    "duration": 0,
    "start_time": "2024-07-25T05:03:51.406Z"
   },
   {
    "duration": 0,
    "start_time": "2024-07-25T05:03:51.407Z"
   },
   {
    "duration": 0,
    "start_time": "2024-07-25T05:03:51.409Z"
   },
   {
    "duration": 0,
    "start_time": "2024-07-25T05:03:51.410Z"
   },
   {
    "duration": 0,
    "start_time": "2024-07-25T05:03:51.411Z"
   },
   {
    "duration": 16,
    "start_time": "2024-07-25T05:06:11.965Z"
   },
   {
    "duration": 38,
    "start_time": "2024-07-25T05:06:11.983Z"
   },
   {
    "duration": 0,
    "start_time": "2024-07-25T05:06:12.024Z"
   },
   {
    "duration": 0,
    "start_time": "2024-07-25T05:06:12.025Z"
   },
   {
    "duration": 0,
    "start_time": "2024-07-25T05:06:12.027Z"
   },
   {
    "duration": 0,
    "start_time": "2024-07-25T05:06:12.029Z"
   },
   {
    "duration": 0,
    "start_time": "2024-07-25T05:06:12.030Z"
   },
   {
    "duration": 0,
    "start_time": "2024-07-25T05:06:12.031Z"
   },
   {
    "duration": 0,
    "start_time": "2024-07-25T05:06:12.033Z"
   },
   {
    "duration": 0,
    "start_time": "2024-07-25T05:06:12.034Z"
   },
   {
    "duration": 0,
    "start_time": "2024-07-25T05:06:12.036Z"
   },
   {
    "duration": 0,
    "start_time": "2024-07-25T05:06:12.037Z"
   },
   {
    "duration": 0,
    "start_time": "2024-07-25T05:06:12.038Z"
   },
   {
    "duration": 0,
    "start_time": "2024-07-25T05:06:12.040Z"
   },
   {
    "duration": 0,
    "start_time": "2024-07-25T05:06:12.041Z"
   },
   {
    "duration": 1,
    "start_time": "2024-07-25T05:06:12.042Z"
   },
   {
    "duration": 0,
    "start_time": "2024-07-25T05:06:12.044Z"
   },
   {
    "duration": 0,
    "start_time": "2024-07-25T05:06:12.045Z"
   },
   {
    "duration": 0,
    "start_time": "2024-07-25T05:06:12.047Z"
   },
   {
    "duration": 0,
    "start_time": "2024-07-25T05:06:12.048Z"
   },
   {
    "duration": 0,
    "start_time": "2024-07-25T05:06:12.049Z"
   },
   {
    "duration": 0,
    "start_time": "2024-07-25T05:06:12.052Z"
   },
   {
    "duration": 0,
    "start_time": "2024-07-25T05:06:12.053Z"
   },
   {
    "duration": 0,
    "start_time": "2024-07-25T05:06:12.054Z"
   },
   {
    "duration": 0,
    "start_time": "2024-07-25T05:06:12.056Z"
   },
   {
    "duration": 0,
    "start_time": "2024-07-25T05:06:12.058Z"
   },
   {
    "duration": 0,
    "start_time": "2024-07-25T05:06:12.059Z"
   },
   {
    "duration": 0,
    "start_time": "2024-07-25T05:06:12.060Z"
   },
   {
    "duration": 0,
    "start_time": "2024-07-25T05:06:12.061Z"
   },
   {
    "duration": 0,
    "start_time": "2024-07-25T05:06:12.105Z"
   },
   {
    "duration": 62,
    "start_time": "2024-07-25T05:06:34.673Z"
   },
   {
    "duration": 10,
    "start_time": "2024-07-25T05:06:42.534Z"
   },
   {
    "duration": 0,
    "start_time": "2024-07-25T05:06:42.546Z"
   },
   {
    "duration": 0,
    "start_time": "2024-07-25T05:06:42.548Z"
   },
   {
    "duration": 0,
    "start_time": "2024-07-25T05:06:42.549Z"
   },
   {
    "duration": 0,
    "start_time": "2024-07-25T05:06:42.550Z"
   },
   {
    "duration": 0,
    "start_time": "2024-07-25T05:06:42.551Z"
   },
   {
    "duration": 0,
    "start_time": "2024-07-25T05:06:42.552Z"
   },
   {
    "duration": 0,
    "start_time": "2024-07-25T05:06:42.553Z"
   },
   {
    "duration": 0,
    "start_time": "2024-07-25T05:06:42.554Z"
   },
   {
    "duration": 0,
    "start_time": "2024-07-25T05:06:42.555Z"
   },
   {
    "duration": 51,
    "start_time": "2024-07-25T05:06:42.557Z"
   },
   {
    "duration": 0,
    "start_time": "2024-07-25T05:06:42.610Z"
   },
   {
    "duration": 0,
    "start_time": "2024-07-25T05:06:42.611Z"
   },
   {
    "duration": 0,
    "start_time": "2024-07-25T05:06:42.612Z"
   },
   {
    "duration": 0,
    "start_time": "2024-07-25T05:06:42.613Z"
   },
   {
    "duration": 0,
    "start_time": "2024-07-25T05:06:42.614Z"
   },
   {
    "duration": 0,
    "start_time": "2024-07-25T05:06:42.615Z"
   },
   {
    "duration": 0,
    "start_time": "2024-07-25T05:06:42.616Z"
   },
   {
    "duration": 0,
    "start_time": "2024-07-25T05:06:42.617Z"
   },
   {
    "duration": 0,
    "start_time": "2024-07-25T05:06:42.618Z"
   },
   {
    "duration": 0,
    "start_time": "2024-07-25T05:06:42.620Z"
   },
   {
    "duration": 0,
    "start_time": "2024-07-25T05:06:42.621Z"
   },
   {
    "duration": 0,
    "start_time": "2024-07-25T05:06:42.622Z"
   },
   {
    "duration": 0,
    "start_time": "2024-07-25T05:06:42.623Z"
   },
   {
    "duration": 0,
    "start_time": "2024-07-25T05:06:42.626Z"
   },
   {
    "duration": 0,
    "start_time": "2024-07-25T05:06:42.627Z"
   },
   {
    "duration": 0,
    "start_time": "2024-07-25T05:06:42.628Z"
   },
   {
    "duration": 0,
    "start_time": "2024-07-25T05:06:42.630Z"
   },
   {
    "duration": 0,
    "start_time": "2024-07-25T05:06:42.634Z"
   },
   {
    "duration": 6,
    "start_time": "2024-07-25T05:06:53.208Z"
   },
   {
    "duration": 4,
    "start_time": "2024-07-25T05:06:54.342Z"
   },
   {
    "duration": 4,
    "start_time": "2024-07-25T05:06:55.334Z"
   },
   {
    "duration": 7,
    "start_time": "2024-07-25T05:06:55.924Z"
   },
   {
    "duration": 9,
    "start_time": "2024-07-25T05:07:46.892Z"
   },
   {
    "duration": 26,
    "start_time": "2024-07-25T05:07:46.902Z"
   },
   {
    "duration": 12,
    "start_time": "2024-07-25T05:07:46.929Z"
   },
   {
    "duration": 26,
    "start_time": "2024-07-25T05:07:46.942Z"
   },
   {
    "duration": 31,
    "start_time": "2024-07-25T05:07:46.970Z"
   },
   {
    "duration": 282,
    "start_time": "2024-07-25T05:07:47.003Z"
   },
   {
    "duration": 326,
    "start_time": "2024-07-25T05:07:47.286Z"
   },
   {
    "duration": 250,
    "start_time": "2024-07-25T05:07:47.614Z"
   },
   {
    "duration": 409,
    "start_time": "2024-07-25T05:07:47.866Z"
   },
   {
    "duration": 232,
    "start_time": "2024-07-25T05:07:48.277Z"
   },
   {
    "duration": 317,
    "start_time": "2024-07-25T05:07:48.510Z"
   },
   {
    "duration": 11,
    "start_time": "2024-07-25T05:07:48.829Z"
   },
   {
    "duration": 212,
    "start_time": "2024-07-25T05:07:48.842Z"
   },
   {
    "duration": 4,
    "start_time": "2024-07-25T05:07:49.056Z"
   },
   {
    "duration": 141,
    "start_time": "2024-07-25T05:07:49.062Z"
   },
   {
    "duration": 5,
    "start_time": "2024-07-25T05:07:49.204Z"
   },
   {
    "duration": 13,
    "start_time": "2024-07-25T05:07:49.210Z"
   },
   {
    "duration": 260,
    "start_time": "2024-07-25T05:07:49.225Z"
   },
   {
    "duration": 186,
    "start_time": "2024-07-25T05:07:49.487Z"
   },
   {
    "duration": 11,
    "start_time": "2024-07-25T05:07:49.675Z"
   },
   {
    "duration": 24,
    "start_time": "2024-07-25T05:07:49.688Z"
   },
   {
    "duration": 58,
    "start_time": "2024-07-25T05:07:49.713Z"
   },
   {
    "duration": 26,
    "start_time": "2024-07-25T05:07:49.772Z"
   },
   {
    "duration": 13,
    "start_time": "2024-07-25T05:07:49.800Z"
   },
   {
    "duration": 1359,
    "start_time": "2024-07-26T04:31:25.473Z"
   },
   {
    "duration": 224,
    "start_time": "2024-07-26T04:31:26.835Z"
   },
   {
    "duration": 19,
    "start_time": "2024-07-26T04:31:27.061Z"
   },
   {
    "duration": 3,
    "start_time": "2024-07-26T04:31:27.082Z"
   },
   {
    "duration": 4,
    "start_time": "2024-07-26T04:31:27.087Z"
   },
   {
    "duration": 18,
    "start_time": "2024-07-26T04:31:27.092Z"
   },
   {
    "duration": 15,
    "start_time": "2024-07-26T04:31:27.112Z"
   },
   {
    "duration": 48,
    "start_time": "2024-07-26T04:31:27.128Z"
   },
   {
    "duration": 109,
    "start_time": "2024-07-26T04:31:27.177Z"
   },
   {
    "duration": 0,
    "start_time": "2024-07-26T04:31:27.288Z"
   },
   {
    "duration": 1,
    "start_time": "2024-07-26T04:31:27.289Z"
   },
   {
    "duration": 0,
    "start_time": "2024-07-26T04:31:27.291Z"
   },
   {
    "duration": 0,
    "start_time": "2024-07-26T04:31:27.292Z"
   },
   {
    "duration": 0,
    "start_time": "2024-07-26T04:31:27.293Z"
   },
   {
    "duration": 0,
    "start_time": "2024-07-26T04:31:27.295Z"
   },
   {
    "duration": 0,
    "start_time": "2024-07-26T04:31:27.296Z"
   },
   {
    "duration": 0,
    "start_time": "2024-07-26T04:31:27.298Z"
   },
   {
    "duration": 0,
    "start_time": "2024-07-26T04:31:27.299Z"
   },
   {
    "duration": 0,
    "start_time": "2024-07-26T04:31:27.300Z"
   },
   {
    "duration": 0,
    "start_time": "2024-07-26T04:31:27.301Z"
   },
   {
    "duration": 0,
    "start_time": "2024-07-26T04:31:27.302Z"
   },
   {
    "duration": 0,
    "start_time": "2024-07-26T04:31:27.303Z"
   },
   {
    "duration": 0,
    "start_time": "2024-07-26T04:31:27.304Z"
   },
   {
    "duration": 0,
    "start_time": "2024-07-26T04:31:27.305Z"
   },
   {
    "duration": 0,
    "start_time": "2024-07-26T04:31:27.306Z"
   },
   {
    "duration": 0,
    "start_time": "2024-07-26T04:31:27.308Z"
   },
   {
    "duration": 0,
    "start_time": "2024-07-26T04:31:27.309Z"
   },
   {
    "duration": 0,
    "start_time": "2024-07-26T04:31:27.310Z"
   },
   {
    "duration": 0,
    "start_time": "2024-07-26T04:31:27.312Z"
   },
   {
    "duration": 0,
    "start_time": "2024-07-26T04:31:27.313Z"
   },
   {
    "duration": 0,
    "start_time": "2024-07-26T04:31:27.314Z"
   },
   {
    "duration": 0,
    "start_time": "2024-07-26T04:31:27.316Z"
   },
   {
    "duration": 0,
    "start_time": "2024-07-26T04:31:27.317Z"
   },
   {
    "duration": 0,
    "start_time": "2024-07-26T04:31:27.365Z"
   },
   {
    "duration": 0,
    "start_time": "2024-07-26T04:31:27.366Z"
   },
   {
    "duration": 0,
    "start_time": "2024-07-26T04:31:27.368Z"
   },
   {
    "duration": 0,
    "start_time": "2024-07-26T04:31:27.370Z"
   },
   {
    "duration": 0,
    "start_time": "2024-07-26T04:31:27.372Z"
   },
   {
    "duration": 1069,
    "start_time": "2024-07-26T04:33:21.876Z"
   },
   {
    "duration": 76,
    "start_time": "2024-07-26T04:33:22.947Z"
   },
   {
    "duration": 21,
    "start_time": "2024-07-26T04:33:23.024Z"
   },
   {
    "duration": 4,
    "start_time": "2024-07-26T04:33:23.047Z"
   },
   {
    "duration": 5,
    "start_time": "2024-07-26T04:33:23.052Z"
   },
   {
    "duration": 35,
    "start_time": "2024-07-26T04:33:23.058Z"
   },
   {
    "duration": 15,
    "start_time": "2024-07-26T04:33:23.095Z"
   },
   {
    "duration": 18,
    "start_time": "2024-07-26T04:33:23.112Z"
   },
   {
    "duration": 19,
    "start_time": "2024-07-26T04:33:23.133Z"
   },
   {
    "duration": 9,
    "start_time": "2024-07-26T04:33:23.165Z"
   },
   {
    "duration": 3,
    "start_time": "2024-07-26T04:33:23.176Z"
   },
   {
    "duration": 5,
    "start_time": "2024-07-26T04:33:23.181Z"
   },
   {
    "duration": 10,
    "start_time": "2024-07-26T04:33:23.187Z"
   },
   {
    "duration": 17,
    "start_time": "2024-07-26T04:33:23.199Z"
   },
   {
    "duration": 9,
    "start_time": "2024-07-26T04:33:23.217Z"
   },
   {
    "duration": 42,
    "start_time": "2024-07-26T04:33:23.228Z"
   },
   {
    "duration": 10,
    "start_time": "2024-07-26T04:33:23.272Z"
   },
   {
    "duration": 26,
    "start_time": "2024-07-26T04:33:23.284Z"
   },
   {
    "duration": 13,
    "start_time": "2024-07-26T04:33:23.311Z"
   },
   {
    "duration": 294,
    "start_time": "2024-07-26T04:33:23.325Z"
   },
   {
    "duration": 345,
    "start_time": "2024-07-26T04:33:23.621Z"
   },
   {
    "duration": 207,
    "start_time": "2024-07-26T04:33:23.968Z"
   },
   {
    "duration": 331,
    "start_time": "2024-07-26T04:33:24.177Z"
   },
   {
    "duration": 244,
    "start_time": "2024-07-26T04:33:24.510Z"
   },
   {
    "duration": 337,
    "start_time": "2024-07-26T04:33:24.756Z"
   },
   {
    "duration": 9,
    "start_time": "2024-07-26T04:33:25.094Z"
   },
   {
    "duration": 154,
    "start_time": "2024-07-26T04:33:25.105Z"
   },
   {
    "duration": 4,
    "start_time": "2024-07-26T04:33:25.266Z"
   },
   {
    "duration": 150,
    "start_time": "2024-07-26T04:33:25.272Z"
   },
   {
    "duration": 4,
    "start_time": "2024-07-26T04:33:25.424Z"
   },
   {
    "duration": 24,
    "start_time": "2024-07-26T04:33:25.429Z"
   },
   {
    "duration": 225,
    "start_time": "2024-07-26T04:33:25.455Z"
   },
   {
    "duration": 185,
    "start_time": "2024-07-26T04:33:25.682Z"
   },
   {
    "duration": 10,
    "start_time": "2024-07-26T04:33:25.868Z"
   },
   {
    "duration": 21,
    "start_time": "2024-07-26T04:33:25.880Z"
   },
   {
    "duration": 22,
    "start_time": "2024-07-26T04:33:25.903Z"
   },
   {
    "duration": 33,
    "start_time": "2024-07-26T04:33:25.927Z"
   },
   {
    "duration": 14,
    "start_time": "2024-07-26T04:33:25.962Z"
   },
   {
    "duration": 1294,
    "start_time": "2024-10-01T09:07:20.721Z"
   },
   {
    "duration": 223,
    "start_time": "2024-10-01T09:07:22.017Z"
   },
   {
    "duration": 17,
    "start_time": "2024-10-01T09:07:22.242Z"
   },
   {
    "duration": 25,
    "start_time": "2024-10-01T09:07:22.261Z"
   },
   {
    "duration": 25,
    "start_time": "2024-10-01T09:07:22.287Z"
   },
   {
    "duration": 41,
    "start_time": "2024-10-01T09:07:22.313Z"
   },
   {
    "duration": 164,
    "start_time": "2024-10-01T09:07:22.355Z"
   },
   {
    "duration": 72,
    "start_time": "2024-10-01T09:07:22.521Z"
   },
   {
    "duration": 51,
    "start_time": "2024-10-01T09:07:22.594Z"
   },
   {
    "duration": 48,
    "start_time": "2024-10-01T09:07:22.648Z"
   },
   {
    "duration": 18,
    "start_time": "2024-10-01T09:07:22.697Z"
   },
   {
    "duration": 96,
    "start_time": "2024-10-01T09:07:22.716Z"
   },
   {
    "duration": 29,
    "start_time": "2024-10-01T09:07:22.814Z"
   },
   {
    "duration": 33,
    "start_time": "2024-10-01T09:07:22.844Z"
   },
   {
    "duration": 29,
    "start_time": "2024-10-01T09:07:22.878Z"
   },
   {
    "duration": 46,
    "start_time": "2024-10-01T09:07:22.908Z"
   },
   {
    "duration": 190,
    "start_time": "2024-10-01T09:07:22.955Z"
   },
   {
    "duration": 95,
    "start_time": "2024-10-01T09:07:23.147Z"
   },
   {
    "duration": 43,
    "start_time": "2024-10-01T09:07:23.244Z"
   },
   {
    "duration": 335,
    "start_time": "2024-10-01T09:07:23.288Z"
   },
   {
    "duration": 266,
    "start_time": "2024-10-01T09:07:23.624Z"
   },
   {
    "duration": 191,
    "start_time": "2024-10-01T09:07:23.891Z"
   },
   {
    "duration": 313,
    "start_time": "2024-10-01T09:07:24.084Z"
   },
   {
    "duration": 199,
    "start_time": "2024-10-01T09:07:24.399Z"
   },
   {
    "duration": 316,
    "start_time": "2024-10-01T09:07:24.599Z"
   },
   {
    "duration": 10,
    "start_time": "2024-10-01T09:07:24.917Z"
   },
   {
    "duration": 156,
    "start_time": "2024-10-01T09:07:24.929Z"
   },
   {
    "duration": 4,
    "start_time": "2024-10-01T09:07:25.088Z"
   },
   {
    "duration": 155,
    "start_time": "2024-10-01T09:07:25.093Z"
   },
   {
    "duration": 4,
    "start_time": "2024-10-01T09:07:25.249Z"
   },
   {
    "duration": 24,
    "start_time": "2024-10-01T09:07:25.255Z"
   },
   {
    "duration": 185,
    "start_time": "2024-10-01T09:07:25.281Z"
   },
   {
    "duration": 160,
    "start_time": "2024-10-01T09:07:25.468Z"
   },
   {
    "duration": 8,
    "start_time": "2024-10-01T09:07:25.629Z"
   },
   {
    "duration": 11,
    "start_time": "2024-10-01T09:07:25.639Z"
   },
   {
    "duration": 28,
    "start_time": "2024-10-01T09:07:25.651Z"
   },
   {
    "duration": 43,
    "start_time": "2024-10-01T09:07:25.681Z"
   },
   {
    "duration": 12,
    "start_time": "2024-10-01T09:07:25.725Z"
   }
  ],
  "kernelspec": {
   "display_name": "Python 3 (ipykernel)",
   "language": "python",
   "name": "python3"
  },
  "language_info": {
   "codemirror_mode": {
    "name": "ipython",
    "version": 3
   },
   "file_extension": ".py",
   "mimetype": "text/x-python",
   "name": "python",
   "nbconvert_exporter": "python",
   "pygments_lexer": "ipython3",
   "version": "3.11.7"
  },
  "toc": {
   "base_numbering": 1,
   "nav_menu": {},
   "number_sections": true,
   "sideBar": true,
   "skip_h1_title": true,
   "title_cell": "Table of Contents",
   "title_sidebar": "Contents",
   "toc_cell": false,
   "toc_position": {},
   "toc_section_display": true,
   "toc_window_display": false
  }
 },
 "nbformat": 4,
 "nbformat_minor": 5
}
